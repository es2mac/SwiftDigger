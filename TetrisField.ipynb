{
  "nbformat": 4,
  "nbformat_minor": 0,
  "metadata": {
    "colab": {
      "name": "TetrisField.ipynb",
      "version": "0.3.2",
      "provenance": [],
      "collapsed_sections": [
        "_5XgkS6jjdPA",
        "JVVPFtCTkdKq",
        "8DSL_KcdBWwH",
        "4_Z1a7gn6U5y",
        "s25_CuR5P-qT",
        "SSvg16wi1Xww",
        "7r8wLPQH6d7p",
        "bBoZXJEBNvM-",
        "rMnxHrM3nGpZ",
        "j0cEnXEJlja7",
        "8xry5W-Sluo6",
        "4nrqZzP4gbP9",
        "YljrqtnYUo_g",
        "_shkPQFuU2d0",
        "WX-z45-cionZ",
        "zQ9YgRlah6Tu",
        "XypOkKO_p0sx",
        "VoONl2Ukz1uW",
        "Nv_Xnse-25ty",
        "dXi7GL3HYeJ4",
        "MNHm8My1qi9I",
        "FSqWpTIuxORO",
        "aGZ6Oi3_bUu_",
        "oatBT6OMfRIM",
        "8Ks7I-shQHs5",
        "m-roSSXHvEjK",
        "3rYRFQKsvLxb"
      ],
      "include_colab_link": true
    },
    "kernelspec": {
      "name": "swift",
      "display_name": "Swift"
    }
  },
  "cells": [
    {
      "cell_type": "markdown",
      "metadata": {
        "id": "view-in-github",
        "colab_type": "text"
      },
      "source": [
        "<a href=\"https://colab.research.google.com/github/es2mac/SwiftDigger/blob/master/TetrisField.ipynb\" target=\"_parent\"><img src=\"https://colab.research.google.com/assets/colab-badge.svg\" alt=\"Open In Colab\"/></a>"
      ]
    },
    {
      "cell_type": "markdown",
      "metadata": {
        "id": "SNicOaqA7iz3",
        "colab_type": "text"
      },
      "source": [
        "# Ideas"
      ]
    },
    {
      "cell_type": "markdown",
      "metadata": {
        "id": "UU4L2RHAWSej",
        "colab_type": "text"
      },
      "source": [
        "Next steps:\n",
        "- https://github.com/tensorflow/swift/blob/master/docs/site/tutorials/model_training_walkthrough.ipynb\n",
        "- Try in-memory model training (figure out saving/loading checkpoint or full model later, or just wait)\n",
        "- Maybe rebalance the tree search explore-exploit, because value activation changed from tanh (-1, 1) to sigmoid (0, 1)\n",
        "- Consider using MCTS enhanced policy as probability distribution to play, not just taking highest visited child\n",
        "- Implement finding slide moves and SRS twist moves\n",
        "- Further debug performance\n",
        "- Consider terminal nodes (field garbage count = 0).  This probably requires separating the concepts of \"having children\" and \"have been evaluated\".\n",
        "- Limit to 10-line digs for now.  To work with e.g. 100-line dig, need to dynamically compose field with a limited number of garbage"
      ]
    },
    {
      "cell_type": "markdown",
      "metadata": {
        "id": "w8jcI2-PNdo1",
        "colab_type": "text"
      },
      "source": [
        "MCTS (my implementation, not exactly as commonly described):\n",
        "- Start from root node, select best child until we find one that hasn't been evaluated\n",
        "  - \"Best\" includes priors, and balances exploration & exploitation\n",
        "  - Internally, this node is freshly initiated at this selection step\n",
        "- Prepare this node for evaluation, and set up for possible future visits\n",
        "  - Find all valid children\n",
        "  - Based on the number of valid children, initiate children N, W\n",
        "- Evaluate the node\n",
        "  - Get value of this node, and set priors for its children\n",
        "  - Backpropagate the value"
      ]
    },
    {
      "cell_type": "markdown",
      "metadata": {
        "id": "SGk2eZKUmhAK",
        "colab_type": "text"
      },
      "source": [
        "Notes on crafting features:\n",
        "- Simple value ideas (working thought below) didn't work well.  The bot plays too greedy and has no idea what to do if no line is cleared.  It can't see far enough.  In retrospect, this is not surprising, because I've skimped the rollout part of the basic MCTS."
      ]
    },
    {
      "cell_type": "markdown",
      "metadata": {
        "id": "eGHG2s7AQO2r",
        "colab_type": "text"
      },
      "source": [
        "Working thought:\n",
        "\n",
        "- An NN model needs to be able to handle 0~5 previews when doing MCTS for a real game that has 5 previews.  Cases with more previews seems more important, but cases with less previews are used far more often in that type of search (if time permits).  In fact, if we often get down to 3 previews or fewer (tree depth >2), maybe it's reasonable to shrink the model to only handle fewer previews?  On the other hand, with very few or no preview, there shouldn't be enough information to know with any certainty whether the next few lines could be cleared quickly.  It's very situational.\n",
        "\n",
        "- Value function.  The general idea is \"piece/line ratio.\"  One idea is that only garbage lines matter, don't reward clearing lines made with player pieces.  The other is whether we do \n",
        "  - How many pieces for the next N lines, or\n",
        "  - How many lines for the next N pieces\n",
        "  - Some complicated combo, fixing neither line nor piece count?\n",
        "\n",
        "- Say I use the number of pieces for the next 4 garbage lines.  My value could be linear, or could be 4/n where the max value is 1.  Questions here:\n",
        "  - Does this curve work well, in the context of UCT? (might need to try and see)\n",
        "  - Does N=4 make sense?  4/4 is very possible, and the risk is whether this is too short-sighted.  On the other hand, if I use say N=10, the signal may be too weak because in such long-term, a single placement doesn't affect the final piece count very much.\n",
        "  \n",
        "- For RL's early stage, maybe I could set up a simplified problem, say given N=7 pieces (i.e. play, hold, and 5 previews), try to clear as many lines as possible.  Increase N once it gets off the ground."
      ]
    },
    {
      "cell_type": "markdown",
      "metadata": {
        "id": "BxWTS67DSdmm",
        "colab_type": "text"
      },
      "source": [
        "References:\n",
        "- The most relevant reference is [MiniGo in Swift](https://github.com/tensorflow/swift-models/tree/master/MiniGo), as well as the [original MiniGo](https://github.com/tensorflow/minigo).\n",
        "- [MCTS with Python explanation](http://www.moderndescartes.com/essays/deep_dive_mcts/), some interesting implementation details to think about.\n",
        "- [Nice of medium posts](https://medium.com/oracledevs/lessons-from-alphazero-part-3-parameter-tweaking-4dceb78ed1e5) on AlphaZero.\n",
        "- [El-Tetris](http://imake.ninja/el-tetris-an-improvement-on-pierre-dellacheries-algorithm/) [source code](https://github.com/daogan/tetris-ai/blob/master/tetris_ai.py) has some clarifications of hand-crafted features.\n",
        "\n"
      ]
    },
    {
      "cell_type": "markdown",
      "metadata": {
        "id": "_5XgkS6jjdPA",
        "colab_type": "text"
      },
      "source": [
        "# Notebook Setup"
      ]
    },
    {
      "cell_type": "code",
      "metadata": {
        "id": "NO7u2Or2W7LF",
        "colab_type": "code",
        "cellView": "both",
        "colab": {}
      },
      "source": [
        "import Foundation\n",
        "import Python\n",
        "import TensorFlow\n",
        "\n",
        "%include \"EnableIPythonDisplay.swift\"\n",
        "_ = IPythonDisplay.shell.enable_matplotlib(\"inline\")\n",
        "\n",
        "let np = Python.import(\"numpy\")\n",
        "let plt = Python.import(\"matplotlib.pyplot\")\n",
        "\n",
        "// print(Python.version)"
      ],
      "execution_count": 0,
      "outputs": []
    },
    {
      "cell_type": "markdown",
      "metadata": {
        "id": "JVVPFtCTkdKq",
        "colab_type": "text"
      },
      "source": [
        "# Tetris Types: Tetromino, Piece, Field"
      ]
    },
    {
      "cell_type": "code",
      "metadata": {
        "id": "imm111Jw_WW9",
        "colab_type": "code",
        "colab": {}
      },
      "source": [
        "/// Just the type of a tetromino.\n",
        "enum Tetromino: Int, CaseIterable {\n",
        "  case I, J, L, O, S, T, Z  // In alphabetical order\n",
        "}\n",
        "\n",
        "public func < <T: RawRepresentable>(a: T, b: T) -> Bool where T.RawValue: Comparable {\n",
        "    return a.rawValue < b.rawValue\n",
        "}\n",
        "\n",
        "extension Tetromino: Comparable {}\n",
        "\n",
        "extension Tetromino: CustomDebugStringConvertible {\n",
        "  public var debugDescription: String {\n",
        "    switch self {\n",
        "      case .I: return \"I\"\n",
        "      case .J: return \"J\"\n",
        "      case .L: return \"L\"\n",
        "      case .O: return \"O\"\n",
        "      case .S: return \"S\"\n",
        "      case .T: return \"T\"\n",
        "      case .Z: return \"Z\"\n",
        "    }\n",
        "  }\n",
        "}"
      ],
      "execution_count": 0,
      "outputs": []
    },
    {
      "cell_type": "code",
      "metadata": {
        "id": "_v2sVFjQvW8P",
        "colab_type": "code",
        "colab": {}
      },
      "source": [
        "/// A piece is a tetromino with placement information.  Calling it \"Piece\"\n",
        "/// instead of \"Placement\" to be intentionally ambiguous, to use in different\n",
        "/// contexts where we need to describe more than just the Tetromino type.\n",
        "struct Piece {\n",
        "  enum Orientation: Int, CaseIterable {\n",
        "      case up, right, down, left\n",
        "  }\n",
        "\n",
        "  let type: Tetromino\n",
        "  var x: Int\n",
        "  var y: Int\n",
        "  var orientation: Orientation = .up\n",
        "}\n",
        "\n",
        "extension Piece: Hashable {\n",
        "  var hashValue: Int {\n",
        "    return ((x + y * 10) << 5) | (type.rawValue << 2) | orientation.rawValue\n",
        "  }\n",
        "  \n",
        "  init?(hashValue: Int) {\n",
        "    // Hash of 0 would be flat I at (0, 0) which in fact doesn't fit on board\n",
        "    guard hashValue != 0 else { return nil }\n",
        "    let x = (hashValue >> 5) % 10\n",
        "    let y = (hashValue >> 5) / 10\n",
        "    // Assume center should be in the 10x20 field, though there could be edge\n",
        "    // cases in the real world where y goes >= 20\n",
        "    guard 0..<10 ~= x, 0..<20 ~= y else { return nil }\n",
        "    let type = Tetromino(rawValue: (hashValue >> 2) & 0b111)!\n",
        "    let orientation = Orientation(rawValue: hashValue & 0b11)!\n",
        "    self.init(type: type, x: x, y: y, orientation: orientation)\n",
        "  }\n",
        "}\n",
        "\n",
        "// Piece conforms to CustomDebugStringConvertible, but it needs some constants defined later\n",
        "// extension Piece: CustomDebugStringConvertible {}\n",
        "\n",
        "extension Piece {\n",
        "  /// This index is used as index to construct & access some constants\n",
        "  var typeAndOrientationIndex: Int {\n",
        "    get { return type.rawValue * 4 + orientation.rawValue }\n",
        "  }\n",
        "}"
      ],
      "execution_count": 0,
      "outputs": []
    },
    {
      "cell_type": "code",
      "metadata": {
        "id": "o2psKsrHjhy1",
        "colab_type": "code",
        "colab": {}
      },
      "source": [
        "/// The game field is really just an array of rows.\n",
        "/// It can be any number of rows tall.\n",
        "struct Field {\n",
        "  /// Each row is stored as bits in an Int16.\n",
        "  /// By convention, empty top rows should be removed, no empty row.\n",
        "  var storage: [Int16]\n",
        "  var height: Int { return storage.count }\n",
        "  var garbageCount: Int\n",
        "}\n",
        "\n",
        "extension Field {\n",
        "  init() {\n",
        "    self.storage = []\n",
        "    self.garbageCount = 0\n",
        "  }\n",
        "}\n",
        "\n",
        "extension Field: CustomDebugStringConvertible {\n",
        "  public var debugDescription: String {\n",
        "    var lines = storage.map { (n: Int16) -> String in\n",
        "      let binaryString = String(n, radix: 2)\n",
        "      let padding =  String(repeating: \"0\", count: (10 - binaryString.count))\n",
        "      return padding + binaryString + \"  \"\n",
        "    }\n",
        "    if (garbageCount > 0) && (garbageCount <= lines.count) {\n",
        "      lines[garbageCount - 1] = \"==< \" + lines[garbageCount - 1]\n",
        "    }\n",
        "    return String(lines.joined(separator: \"\\n\").reversed())\n",
        "             .replacingOccurrences(of: \"0\", with: \"  \")\n",
        "             .replacingOccurrences(of: \"1\", with: \"O \")\n",
        "  }\n",
        "}\n",
        "    \n",
        "extension Field: Hashable {\n",
        "  var hashValue: Int {\n",
        "    return self.storage.reduce(garbageCount) { ($0 << 3) ^ Int($1) }\n",
        "  }\n",
        "}"
      ],
      "execution_count": 0,
      "outputs": []
    },
    {
      "cell_type": "markdown",
      "metadata": {
        "id": "8DSL_KcdBWwH",
        "colab_type": "text"
      },
      "source": [
        "# Field Methods"
      ]
    },
    {
      "cell_type": "markdown",
      "metadata": {
        "id": "4_Z1a7gn6U5y",
        "colab_type": "text"
      },
      "source": [
        "### Construct bitmasks of piece for placement check"
      ]
    },
    {
      "cell_type": "code",
      "metadata": {
        "id": "k0M1bu4T_Yg2",
        "colab_type": "code",
        "colab": {}
      },
      "source": [
        "/**\n",
        "\"Unshifted\" means additional x/y shifting needs to happen when using these.\n",
        "\n",
        " Because pieces extend to the left and down of the piece center, these masks\n",
        " uniformally start from 2 blocks left of the center, and starts from the\n",
        " bottom-most row of the piece.  An additional offset is constructed for where\n",
        " that bottom row is with respect to the piece center.\n",
        "\n",
        " In other words, when using these masks to check a piece on the field:\n",
        " 1) Shift by piece's x position, then back 2 bits\n",
        " 2) Shift by piece's y position, minus the bottom row offset\n",
        "\n",
        " Ref: https://harddrop.com/wiki/SRS\n",
        " */\n",
        "func makeUnshiftedPieceBitmasks(type: Tetromino, orientation: Piece.Orientation) -> [Int16] {\n",
        "  switch (type, orientation) {\n",
        "    case (.I, .up)   : return [0b11110]\n",
        "    case (.I, .right): return [0b100, 0b100, 0b100, 0b100]\n",
        "    case (.I, .down) : return [0b1111]\n",
        "    case (.I, .left) : return [0b100, 0b100, 0b100, 0b100]\n",
        "    case (.J, .up)   : return [0b1110, 0b10]\n",
        "    case (.J, .right): return [0b100, 0b100, 0b1100]\n",
        "    case (.J, .down) : return [0b1000, 0b1110]\n",
        "    case (.J, .left) : return [0b110, 0b100, 0b100]\n",
        "    case (.L, .up)   : return [0b1110, 0b1000]\n",
        "    case (.L, .right): return [0b1100, 0b100, 0b100]\n",
        "    case (.L, .down) : return [0b10, 0b1110]\n",
        "    case (.L, .left) : return [0b100, 0b100, 0b110]\n",
        "    case (.O, .up)   : return [0b1100, 0b1100]\n",
        "    case (.O, .right): return [0b1100, 0b1100]\n",
        "    case (.O, .down) : return [0b110, 0b110]\n",
        "    case (.O, .left) : return [0b110, 0b110]\n",
        "    case (.S, .up)   : return [0b110, 0b1100]\n",
        "    case (.S, .right): return [0b1000, 0b1100, 0b100]\n",
        "    case (.S, .down) : return [0b110, 0b1100]\n",
        "    case (.S, .left) : return [0b100, 0b110, 0b10]\n",
        "    case (.T, .up)   : return [0b1110, 0b100]\n",
        "    case (.T, .right): return [0b100, 0b1100, 0b100]\n",
        "    case (.T, .down) : return [0b100, 0b1110]\n",
        "    case (.T, .left) : return [0b100, 0b110, 0b100]\n",
        "    case (.Z, .up)   : return [0b1100, 0b110]\n",
        "    case (.Z, .right): return [0b100, 0b1100, 0b1000]\n",
        "    case (.Z, .down) : return [0b1100, 0b110]\n",
        "    case (.Z, .left) : return [0b10, 0b110, 0b100]\n",
        "  }\n",
        "}"
      ],
      "execution_count": 0,
      "outputs": []
    },
    {
      "cell_type": "code",
      "metadata": {
        "id": "cPFB0a0IFZ2d",
        "colab_type": "code",
        "colab": {}
      },
      "source": [
        "func getBottomRowOffset(type: Tetromino, orientation: Piece.Orientation) -> Int {\n",
        "  switch (type, orientation) {\n",
        "    case (.I, .up)   : return 0\n",
        "    case (.I, .right): return 2\n",
        "    case (.I, .down) : return 0\n",
        "    case (.I, .left) : return 1\n",
        "    case (.J, .up)   : return 0\n",
        "    case (.J, .right): return 1\n",
        "    case (.J, .down) : return 1\n",
        "    case (.J, .left) : return 1\n",
        "    case (.L, .up)   : return 0\n",
        "    case (.L, .right): return 1\n",
        "    case (.L, .down) : return 1\n",
        "    case (.L, .left) : return 1\n",
        "    case (.O, .up)   : return 0\n",
        "    case (.O, .right): return 1\n",
        "    case (.O, .down) : return 1\n",
        "    case (.O, .left) : return 0\n",
        "    case (.S, .up)   : return 0\n",
        "    case (.S, .right): return 1\n",
        "    case (.S, .down) : return 1\n",
        "    case (.S, .left) : return 1\n",
        "    case (.T, .up)   : return 0\n",
        "    case (.T, .right): return 1\n",
        "    case (.T, .down) : return 1\n",
        "    case (.T, .left) : return 1\n",
        "    case (.Z, .up)   : return 0\n",
        "    case (.Z, .right): return 1\n",
        "    case (.Z, .down) : return 1\n",
        "    case (.Z, .left) : return 1\n",
        "  }\n",
        "}"
      ],
      "execution_count": 0,
      "outputs": []
    },
    {
      "cell_type": "markdown",
      "metadata": {
        "id": "ilKDuqueKqYI",
        "colab_type": "text"
      },
      "source": [
        "I'm unsure about the performance of this double enum switching, so I'm composing them into plain arrays with my own indexing scheme.\n",
        "\n",
        "It might be interesting to compare the performance of calling the above functions vs. arrays."
      ]
    },
    {
      "cell_type": "code",
      "metadata": {
        "id": "cjR7oyrcFBu_",
        "colab_type": "code",
        "colab": {}
      },
      "source": [
        "let unshiftedPieceBitmasks: [[Int16]] = { () -> [[Int16]] in\n",
        "  var masks = [[Int16]](repeating: [], count: 7 * 4)\n",
        "  for type in Tetromino.allCases {\n",
        "    for orientation in Piece.Orientation.allCases {\n",
        "      let piece = Piece(type: type, x: 0, y: 0, orientation: orientation)\n",
        "      masks[piece.typeAndOrientationIndex] = makeUnshiftedPieceBitmasks(type: type, orientation: orientation)\n",
        "    }\n",
        "  }\n",
        "  return masks\n",
        "}()\n",
        "\n",
        "let unshiftedWholePieceBitmasks: [Int] = unshiftedPieceBitmasks.map { lineMasks in\n",
        "  lineMasks.reversed().reduce(0, { (wholeMask, lineMask) in\n",
        "    (wholeMask << 10) | Int(lineMask)\n",
        "  })\n",
        "}\n",
        "\n",
        "let bottomRowOffsets: [Int] = { () -> [Int] in\n",
        "  var offsets = [Int](repeating: 0, count: 7 * 4)\n",
        "  for type in Tetromino.allCases {\n",
        "    for orientation in Piece.Orientation.allCases {\n",
        "      let piece = Piece(type: type, x: 0, y: 0, orientation: orientation)\n",
        "      offsets[piece.typeAndOrientationIndex] = getBottomRowOffset(type: type, orientation: orientation)\n",
        "    }\n",
        "  }\n",
        "  return offsets  \n",
        "}()"
      ],
      "execution_count": 0,
      "outputs": []
    },
    {
      "cell_type": "code",
      "metadata": {
        "id": "pnWRKpV9_Yyt",
        "colab_type": "code",
        "colab": {}
      },
      "source": [
        "// Now I can draw ASCII representations of Piece\n",
        "extension Piece: CustomDebugStringConvertible {\n",
        "  public var debugDescription: String {\n",
        "      let masks = unshiftedPieceBitmasks[typeAndOrientationIndex]\n",
        "      var lines = masks.map {\n",
        "        String($0, radix: 2)\n",
        "          .replacingOccurrences(of: \"0\", with: \" \")\n",
        "          .replacingOccurrences(of: \"1\", with: \"X\")\n",
        "      }\n",
        "    \n",
        "      var joinedLines = String(lines.joined(separator: \"\\n\").reversed())\n",
        "      joinedLines += String(repeating: \" \", count: 6 - lines.last!.count)\n",
        "      joinedLines += \"(\\(x), \\(y))\\n\"\n",
        "      return \"\\n\" + joinedLines\n",
        "  }\n",
        "}"
      ],
      "execution_count": 0,
      "outputs": []
    },
    {
      "cell_type": "markdown",
      "metadata": {
        "id": "s25_CuR5P-qT",
        "colab_type": "text"
      },
      "source": [
        "### Constants for simple dropping positions"
      ]
    },
    {
      "cell_type": "code",
      "metadata": {
        "id": "kLu2fExsP-0G",
        "colab_type": "code",
        "colab": {}
      },
      "source": [
        "/// Tetromino's starting placements are x-coordinates + orientations reached by\n",
        "/// 2-step finesse, without obstruction and disregarding y-coordinates.\n",
        "/// Hard-dropping from here becomes a \"simple placement,\" below.\n",
        "\n",
        "typealias StartingPlacement = (x: Int, orientation: Piece.Orientation)\n",
        "\n",
        "let placementsO: [StartingPlacement] =\n",
        "  [(x: 0, orientation: .up),\n",
        "   (x: 1, orientation: .up),\n",
        "   (x: 2, orientation: .up),\n",
        "   (x: 3, orientation: .up),\n",
        "   (x: 4, orientation: .up),\n",
        "   (x: 5, orientation: .up),\n",
        "   (x: 6, orientation: .up),\n",
        "   (x: 7, orientation: .up),\n",
        "   (x: 8, orientation: .up)]\n",
        "\n",
        "let placementsI: [StartingPlacement] =\n",
        "  [(x: 1, orientation: .up),\n",
        "   (x: 2, orientation: .up),\n",
        "   (x: 3, orientation: .up),\n",
        "   (x: 4, orientation: .up),\n",
        "   (x: 5, orientation: .up),\n",
        "   (x: 6, orientation: .up),\n",
        "   (x: 7, orientation: .up),\n",
        "\n",
        "   (x: 0, orientation: .left),\n",
        "   (x: 1, orientation: .left),\n",
        "   (x: 2, orientation: .right),\n",
        "   (x: 3, orientation: .left),\n",
        "   (x: 4, orientation: .left),\n",
        "   (x: 5, orientation: .right),\n",
        "   (x: 6, orientation: .right),\n",
        "   (x: 7, orientation: .left),\n",
        "   (x: 8, orientation: .right),\n",
        "   (x: 9, orientation: .right)]\n",
        "\n",
        "let placementsSZ: [StartingPlacement] =\n",
        "  [(x: 1, orientation: .up),\n",
        "   (x: 2, orientation: .up),\n",
        "   (x: 3, orientation: .up),\n",
        "   (x: 4, orientation: .up),\n",
        "   (x: 5, orientation: .up),\n",
        "   (x: 6, orientation: .up),\n",
        "   (x: 7, orientation: .up),\n",
        "   (x: 8, orientation: .up),\n",
        "\n",
        "   (x: 1, orientation: .left),\n",
        "   (x: 1, orientation: .right),\n",
        "   (x: 3, orientation: .left),\n",
        "   (x: 4, orientation: .left),\n",
        "   (x: 4, orientation: .right),\n",
        "   (x: 5, orientation: .right),\n",
        "   (x: 6, orientation: .right),\n",
        "   (x: 8, orientation: .left),\n",
        "   (x: 8, orientation: .right)]\n",
        "\n",
        "let placementsJLT: [StartingPlacement] =\n",
        "  [(x: 1, orientation: .up),\n",
        "   (x: 2, orientation: .up),\n",
        "   (x: 3, orientation: .up),\n",
        "   (x: 4, orientation: .up),\n",
        "   (x: 5, orientation: .up),\n",
        "   (x: 6, orientation: .up),\n",
        "   (x: 7, orientation: .up),\n",
        "   (x: 8, orientation: .up),\n",
        "\n",
        "   (x: 0, orientation: .right),\n",
        "   (x: 1, orientation: .right),\n",
        "   (x: 2, orientation: .right),\n",
        "   (x: 3, orientation: .right),\n",
        "   (x: 4, orientation: .right),\n",
        "   (x: 5, orientation: .right),\n",
        "   (x: 6, orientation: .right),\n",
        "   (x: 7, orientation: .right),\n",
        "   (x: 8, orientation: .right),\n",
        "\n",
        "   (x: 1, orientation: .down),\n",
        "   (x: 2, orientation: .down),\n",
        "   (x: 3, orientation: .down),\n",
        "   (x: 4, orientation: .down),\n",
        "   (x: 5, orientation: .down),\n",
        "   (x: 6, orientation: .down),\n",
        "   (x: 7, orientation: .down),\n",
        "   (x: 8, orientation: .down),\n",
        "\n",
        "   (x: 1, orientation: .left),\n",
        "   (x: 2, orientation: .left),\n",
        "   (x: 3, orientation: .left),\n",
        "   (x: 4, orientation: .left),\n",
        "   (x: 5, orientation: .left),\n",
        "   (x: 6, orientation: .left),\n",
        "   (x: 7, orientation: .left),\n",
        "   (x: 8, orientation: .left),\n",
        "   (x: 9, orientation: .left)]\n",
        "\n",
        "func getStartingPlacements(type: Tetromino) -> [StartingPlacement] {\n",
        "   switch type {\n",
        "     case .J, .L, .T: return placementsJLT\n",
        "     case .S, .Z: return placementsSZ\n",
        "     case .O: return placementsO\n",
        "     case .I: return placementsI\n",
        "   }\n",
        "}"
      ],
      "execution_count": 0,
      "outputs": []
    },
    {
      "cell_type": "markdown",
      "metadata": {
        "id": "SSvg16wi1Xww",
        "colab_type": "text"
      },
      "source": [
        "### Check if a piece can be placed on the field"
      ]
    },
    {
      "cell_type": "code",
      "metadata": {
        "id": "J-dLaoC808r1",
        "colab_type": "code",
        "colab": {}
      },
      "source": [
        "extension Field {\n",
        "\n",
        "  func canPlace(_ piece: Piece) -> Bool {\n",
        "\n",
        "    // Only need to check for obstruction in rows that exist\n",
        "    let index = piece.typeAndOrientationIndex\n",
        "    let bottomRow = piece.y - bottomRowOffsets[index]\n",
        "    guard bottomRow < storage.count else { return true }\n",
        "\n",
        "    let pieceMasks = unshiftedPieceBitmasks[index]\n",
        "    let numberOfRowsToCheck = min(pieceMasks.count, storage.count - bottomRow)\n",
        "    \n",
        "    for i in 0 ..< numberOfRowsToCheck {\n",
        "      let row = storage[bottomRow + i]\n",
        "      if row & (pieceMasks[i] << (piece.x - 2)) != 0 { return false }\n",
        "    }\n",
        "    \n",
        "    return true\n",
        "  }\n",
        "\n",
        "}"
      ],
      "execution_count": 0,
      "outputs": []
    },
    {
      "cell_type": "markdown",
      "metadata": {
        "id": "7r8wLPQH6d7p",
        "colab_type": "text"
      },
      "source": [
        "### Find all possible simple (hard-dropped from top) placements of tetrominos"
      ]
    },
    {
      "cell_type": "code",
      "metadata": {
        "id": "Je_ol2e86cAz",
        "colab_type": "code",
        "colab": {}
      },
      "source": [
        "extension Field {\n",
        "\n",
        "  /// Combine as many lines as an Int would hold, for faster piece checks\n",
        "  /// Also: shift by 2 to work with piece masks\n",
        "  var multiLineMasks: [Int] {\n",
        "    get {\n",
        "      var masks = storage.map(Int.init)\n",
        "      for i in (1 ..< masks.count).reversed() {\n",
        "        masks[i - 1] |= (masks[i] << 10)\n",
        "      }\n",
        "      return masks\n",
        "    }\n",
        "  }\n",
        "\n",
        "  /// Simple placements are those reached by shifting & rotating first\n",
        "  /// at the top of the field, then dropped straight down.\n",
        "  /// That is, no soft-drop then shift or twist.\n",
        "  func findAllSimplePlacements(for types: [Tetromino]) -> [Piece] {\n",
        "    \n",
        "    let lineMasks = multiLineMasks\n",
        "    \n",
        "    var pieces: [Piece] = types.flatMap { type in\n",
        "      getStartingPlacements(type: type).map {\n",
        "        Piece(type: type, x: $0.x, y: 0, orientation: $0.orientation)\n",
        "      }\n",
        "    }    \n",
        "    for i in 0 ..< pieces.count {\n",
        "      let index = pieces[i].typeAndOrientationIndex\n",
        "      let mask = unshiftedWholePieceBitmasks[index] << (pieces[i].x - 2)\n",
        "      let bottomOffset = bottomRowOffsets[index]      \n",
        "      var bottomRow = storage.count      \n",
        "      while bottomRow > 0, (lineMasks[bottomRow-1] & mask) == 0 {\n",
        "        bottomRow -= 1\n",
        "      }\n",
        "      pieces[i].y = bottomRow + bottomOffset\n",
        "    }\n",
        "    return pieces\n",
        "  }\n",
        "}"
      ],
      "execution_count": 0,
      "outputs": []
    },
    {
      "cell_type": "markdown",
      "metadata": {
        "id": "bBoZXJEBNvM-",
        "colab_type": "text"
      },
      "source": [
        "### Place (lock down) a piece"
      ]
    },
    {
      "cell_type": "code",
      "metadata": {
        "id": "prZbzl0UNx7Z",
        "colab_type": "code",
        "colab": {}
      },
      "source": [
        "extension Field {\n",
        "  /// Returns a copy of the field with a piece placed in, and lines cleared.\n",
        "  /// \"Paste\" the piece right onto the field, does not check if it's legal.\n",
        "  /// However, it is assumed that e.g. if the piece spans rows 7~9, then\n",
        "  /// the field must already have at least 6 rows.  This would be true if\n",
        "  /// the piece locked legally.\n",
        "  func lockDown(_ piece: Piece) -> (newField: Field, garbageCleared: Int) {\n",
        "    \n",
        "    let index = piece.typeAndOrientationIndex\n",
        "    let pieceMasks = unshiftedPieceBitmasks[index]\n",
        "    let bottomRow = piece.y - bottomRowOffsets[index]\n",
        "\n",
        "    var newStorage = storage\n",
        "\n",
        "    // Append or OR in the mask\n",
        "    for (i, var mask) in pieceMasks.enumerated() {\n",
        "      mask <<= (piece.x - 2)\n",
        "      let row = bottomRow + i\n",
        "      if row >= newStorage.count {\n",
        "        newStorage.append(mask)\n",
        "      } else {\n",
        "        newStorage[row] |= mask\n",
        "\t    }\n",
        "    }\n",
        "    \n",
        "    // Remove filled rows\n",
        "    var garbageCleared = 0\n",
        "    var newGarbageCount = garbageCount\n",
        "    var checkRow = bottomRow\n",
        "    for _ in 0 ..< pieceMasks.count {\n",
        "      if newStorage[checkRow] == 0b11111_11111 {\n",
        "        newStorage.remove(at: checkRow)\n",
        "        if (checkRow < newGarbageCount) {\n",
        "          garbageCleared += 1\n",
        "          newGarbageCount -= 1\n",
        "        }\n",
        "      } else {\n",
        "        checkRow += 1\n",
        "      }\n",
        "    }\n",
        "\n",
        "    return (newField: Field(storage: newStorage, garbageCount: newGarbageCount),\n",
        "            garbageCleared: garbageCleared)\n",
        "  }\n",
        "}\n",
        "  "
      ],
      "execution_count": 0,
      "outputs": []
    },
    {
      "cell_type": "markdown",
      "metadata": {
        "id": "-5WTXPvlc--T",
        "colab_type": "text"
      },
      "source": [
        "# NN Model"
      ]
    },
    {
      "cell_type": "markdown",
      "metadata": {
        "id": "rMnxHrM3nGpZ",
        "colab_type": "text"
      },
      "source": [
        "### Components"
      ]
    },
    {
      "cell_type": "code",
      "metadata": {
        "id": "C0BbadoP5d6a",
        "colab_type": "code",
        "colab": {}
      },
      "source": [
        "struct ConvBN: Layer {\n",
        "  var conv: Conv2D<Float>\n",
        "  var norm: BatchNorm<Float>\n",
        "\n",
        "  init(filterShape: (Int, Int, Int, Int), strides: (Int, Int) = (1, 1), padding: Padding = .same) {\n",
        "    self.conv = Conv2D(filterShape: filterShape, strides: strides, padding: padding)\n",
        "    self.norm = BatchNorm(featureCount: filterShape.3)\n",
        "  }\n",
        "\n",
        "  @differentiable\n",
        "  func call(_ input: Tensor<Float>) -> Tensor<Float> {\n",
        "      return input.sequenced(through: conv, norm)\n",
        "  }\n",
        "}"
      ],
      "execution_count": 0,
      "outputs": []
    },
    {
      "cell_type": "code",
      "metadata": {
        "id": "zSK7C1LP8haY",
        "colab_type": "code",
        "colab": {}
      },
      "source": [
        "struct ResidualBlock: Layer {\n",
        "  var layer1: ConvBN\n",
        "  var layer2: ConvBN\n",
        "\n",
        "  init(featureCount: Int, kernelSize: Int = 3) {\n",
        "    self.layer1 = ConvBN(filterShape: (kernelSize, kernelSize, featureCount, featureCount))\n",
        "    self.layer2 = ConvBN(filterShape: (kernelSize, kernelSize, featureCount, featureCount))\n",
        "  }\n",
        "\n",
        "  @differentiable\n",
        "  func call(_ input: Tensor<Float>) -> Tensor<Float> {\n",
        "    let layersOutput = layer2(relu(layer1(input)))\n",
        "    return relu(layersOutput + input)\n",
        "  }\n",
        "}"
      ],
      "execution_count": 0,
      "outputs": []
    },
    {
      "cell_type": "code",
      "metadata": {
        "id": "Tw5L7zXdA6X9",
        "colab_type": "code",
        "colab": {}
      },
      "source": [
        "/// Policy is softmax'd logits, shaped (10, 20, 8), i.e. (x, y, piece+orientation)\n",
        "/// Last dimension (8) consists of the 4 orientations of the hold piece,\n",
        "/// and then 4 for the play piece\n",
        "struct TetrisModelOutput: Differentiable {\n",
        "  let policy: Tensor<Float>\n",
        "  let value: Tensor<Float>\n",
        "  let logits: Tensor<Float>\n",
        "}\n",
        "\n",
        "// Modified from Transformer model, wrapping struct init in a differentiable function\n",
        "@differentiable(wrt: (policy, value, logits), vjp: _vjpMakeTetrisModelOutput)\n",
        "func makeTetrisModelOutput(policy: Tensor<Float>, value: Tensor<Float>, logits: Tensor<Float>) -> TetrisModelOutput {\n",
        " return TetrisModelOutput(policy: policy, value: value, logits: logits)\n",
        "}\n",
        "\n",
        "func _vjpMakeTetrisModelOutput(policy: Tensor<Float>, value: Tensor<Float>, logits: Tensor<Float>)\n",
        "  -> (TetrisModelOutput, (TetrisModelOutput.CotangentVector) -> (Tensor<Float>, Tensor<Float>, Tensor<Float>)) {\n",
        "  let result = TetrisModelOutput(policy: policy, value: value, logits: logits)\n",
        "  return (result, { seed in (seed.policy, seed.value, seed.logits) })\n",
        "}"
      ],
      "execution_count": 0,
      "outputs": []
    },
    {
      "cell_type": "code",
      "metadata": {
        "id": "QrCGMGYkaneG",
        "colab_type": "code",
        "colab": {}
      },
      "source": [
        "// Copied from CIFAR helper, because control flow (e.g. looping) is not yet differentiable\n",
        "extension Array where Element: Differentiable {\n",
        "    @differentiable(wrt: (self, initialResult), vjp: reduceDerivative)\n",
        "    func differentiableReduce<Result: Differentiable>(\n",
        "        _ initialResult: Result,\n",
        "        _ nextPartialResult: @differentiable (Result, Element) -> Result\n",
        "    ) -> Result {\n",
        "        return reduce(initialResult, nextPartialResult)\n",
        "    }\n",
        "    \n",
        "    func reduceDerivative<Result: Differentiable>(\n",
        "        _ initialResult: Result,\n",
        "        _ nextPartialResult: @differentiable (Result, Element) -> Result\n",
        "    ) -> (Result, (Result.CotangentVector) -> (Array.CotangentVector, Result.CotangentVector)) {\n",
        "        var pullbacks: [(Result.CotangentVector)\n",
        "            -> (Result.CotangentVector, Element.CotangentVector)] = []\n",
        "        let count = self.count\n",
        "        pullbacks.reserveCapacity(count)\n",
        "        var result = initialResult\n",
        "        for element in self {\n",
        "            let (y, pb) = Swift.valueWithPullback(at: result, element, in: nextPartialResult)\n",
        "            result = y\n",
        "            pullbacks.append(pb)\n",
        "        }\n",
        "        return (value: result, pullback: { cotangent in\n",
        "            var resultCotangent = cotangent\n",
        "            var elementCotangents = CotangentVector([])\n",
        "            elementCotangents.base.reserveCapacity(count)\n",
        "            for pullback in pullbacks.reversed() {\n",
        "                let (newResultCotangent, elementCotangent) = pullback(resultCotangent)\n",
        "                resultCotangent = newResultCotangent\n",
        "                elementCotangents.base.append(elementCotangent)\n",
        "            }\n",
        "            return (CotangentVector(elementCotangents.base.reversed()), resultCotangent)\n",
        "        })\n",
        "    }\n",
        "}"
      ],
      "execution_count": 0,
      "outputs": []
    },
    {
      "cell_type": "markdown",
      "metadata": {
        "id": "j0cEnXEJlja7",
        "colab_type": "text"
      },
      "source": [
        "### Model size calculation"
      ]
    },
    {
      "cell_type": "markdown",
      "metadata": {
        "id": "Q6CJ5qVZdT1p",
        "colab_type": "text"
      },
      "source": [
        "Input:\n",
        "\n",
        "- Assuming a 10 * 20 field, times channels\n",
        "- 1 channel for the field\n",
        "- 7 * 2 channels for hold and play pieces\n",
        "- 7 * N channels for N previews\n",
        "- Take N = 3, for 36 channels, for an input size of 7200\n",
        "\n",
        "initialConv: \n",
        "\n",
        "- For most ConvBN, say we use 3x3 kernels\n",
        "- Use width / channel count of 32, then 3 * 3 * 36 * 32 = 10368\n",
        "- Bias for each channel, and batch norm params\n",
        "- Say about 10k params here\n",
        "\n",
        "residualBlocks: \n",
        "\n",
        "- Each has two ConvBN with 3 * 3 * 32 * 32, so 20k params\n",
        "- Arbitrarily take 4 blocks, 80k params\n",
        "\n",
        "policyConv1:\n",
        "\n",
        "- Say 10k params\n",
        "\n",
        "policyConv2:\n",
        "\n",
        "- 32 channels to 8, 2~3k params\n",
        "\n",
        "valueConv: \n",
        "\n",
        "- 1x1 ConvBN squashing to 1 channel, should be small\n",
        "\n",
        "valueDense1: \n",
        "\n",
        "- From 200 to 32, so just over 6k\n",
        "\n",
        "valueDense2: \n",
        "\n",
        "- Produce a single number... small\n",
        "\n",
        "Output:\n",
        "\n",
        "- (field size) * (hold or play piece) * (orientation)\n",
        "- 200 * 2 * 4 = 1600\n",
        "\n",
        "Shooting for an overall model size of 100~150k."
      ]
    },
    {
      "cell_type": "markdown",
      "metadata": {
        "id": "8xry5W-Sluo6",
        "colab_type": "text"
      },
      "source": [
        "### TetrisModel"
      ]
    },
    {
      "cell_type": "code",
      "metadata": {
        "id": "7o-KWXxdS3o_",
        "colab_type": "code",
        "colab": {}
      },
      "source": [
        "// This, ConvBN, ResidualBlock etc. modified from minigo\n",
        "struct TetrisModel: Layer {\n",
        "\n",
        "  var initialConv: ConvBN\n",
        "  var residualBlocks: [ResidualBlock]\n",
        "\n",
        "  var policyConv1: ConvBN\n",
        "  var policyConv2: ConvBN\n",
        "\n",
        "  var valueConv: ConvBN\n",
        "  var valueDense1: Dense<Float>\n",
        "  var valueDense2: Dense<Float>\n",
        "\n",
        "  init(blockCount: Int = 4) {\n",
        "\n",
        "    let inputFeatureCount = 36\n",
        "    let convWidth = 32\n",
        "    let valueDenseWidth = 32\n",
        "\n",
        "    initialConv = ConvBN(filterShape: (3, 3, inputFeatureCount, convWidth))\n",
        "    residualBlocks = (1...blockCount).map { _ in ResidualBlock(featureCount: convWidth) }\n",
        "\n",
        "    policyConv1 = ConvBN(filterShape: (3, 3, convWidth, convWidth))\n",
        "    policyConv2 = ConvBN(filterShape: (3, 3, convWidth, 8))\n",
        "\n",
        "    valueConv = ConvBN(filterShape: (1, 1, convWidth, 1))\n",
        "    valueDense1 = Dense<Float>(inputSize: 10 * 20, outputSize: valueDenseWidth, activation: relu)\n",
        "    valueDense2 = Dense<Float>(inputSize: valueDenseWidth, outputSize: 1, activation: sigmoid)\n",
        "  }\n",
        "  \n",
        "  @differentiable\n",
        "  public func call(_ input: Tensor<Float>) -> TetrisModelOutput {\n",
        "\n",
        "    let batchSize = input.shape[0]\n",
        "    let initialOutput = relu(initialConv(input))\n",
        "    let blocksOutput = residualBlocks.differentiableReduce(initialOutput) { last, layer in\n",
        "      layer(last)\n",
        "    }\n",
        "\n",
        "    let logits = policyConv2(relu(policyConv1(blocksOutput)))\n",
        "    let policyOutput = softmax(logits)\n",
        "\n",
        "    let valueConvOutput = relu(valueConv(blocksOutput)).reshaped(to: [batchSize, 10 * 20])\n",
        "    let valueOutput = valueDense2(valueDense1(valueConvOutput))\n",
        "\n",
        "    return makeTetrisModelOutput(policy: policyOutput, value: valueOutput, logits: logits)\n",
        "  }\n",
        "}"
      ],
      "execution_count": 0,
      "outputs": []
    },
    {
      "cell_type": "markdown",
      "metadata": {
        "id": "m9bK5qh8myX3",
        "colab_type": "text"
      },
      "source": [
        "### Value function wrapper"
      ]
    },
    {
      "cell_type": "code",
      "metadata": {
        "id": "pIjaBldDusP1",
        "colab_type": "code",
        "colab": {}
      },
      "source": [
        "/// Make model input with the field and play pieces.\n",
        "/// Note that here the \"play\" pieces include the current play piece,\n",
        "/// plus the previews.  It could be empty, and will use up to 3 previews.\n",
        "/// The resulting tensor has 36 features, and indexed as (x, y, feature#)\n",
        "/// for a shape of (10, 20, 36)\n",
        "func constructFeaturePlanes(field: Field, hold: Tetromino, play: [Tetromino]) -> Tensor<Float> {\n",
        "  \n",
        "  // Work with (feature#, y, x) and transpose at the end\n",
        "  var planes = Tensor<Float>.init(shape: [36, 20, 10], repeating: 0)\n",
        "  \n",
        "  // Plane 0: Actual field, up to 20 lines\n",
        "  var flattenField = [Float](repeating: 0, count: 200)\n",
        "  for (y, line) in zip(0..<20, field.storage) {\n",
        "    for x in 0 ..< 10 {\n",
        "      if line & (1 << x) != 0 {\n",
        "        flattenField[x + y * 10] = 1\n",
        "      }\n",
        "    }\n",
        "  }\n",
        "  \n",
        "  planes[0] = Tensor(flattenField).reshaped(to: [20, 10])\n",
        "\n",
        "  // Each play piece fills one of 7 planes\n",
        "  let filled = Tensor<Float>.init(ones: [20, 10])\n",
        "  \n",
        "  // Planes 1~7: Hold\n",
        "  planes[1 + hold.rawValue] = filled\n",
        "  \n",
        "  // Planes 8-36: Play (current and up to 3 previews)\n",
        "  for (nextIndex, type) in zip(0..<4, play) {\n",
        "    planes[8 + 7 * nextIndex + type.rawValue] = filled\n",
        "  }\n",
        "  \n",
        "//       var start = Date()\n",
        "//       data2.append(Date().timeIntervalSince(start))\n",
        "//       start = Date()\n",
        "//       data3.append(Date().timeIntervalSince(start))\n",
        "  \n",
        "  return planes.transposed()\n",
        "}"
      ],
      "execution_count": 0,
      "outputs": []
    },
    {
      "cell_type": "code",
      "metadata": {
        "id": "t89lz-rwm0TS",
        "colab_type": "code",
        "colab": {}
      },
      "source": [
        "// Prototype: For sequential evaluations only\n",
        "func modelEvaluate(model: TetrisModel,\n",
        "                   field: Field,\n",
        "                   legalMoves: [Piece],\n",
        "                   hold: Tetromino,\n",
        "                   play: [Tetromino]) -> (value: Double, priors: Tensor<Double>) {\n",
        "    \n",
        "  let input = constructFeaturePlanes(field: field, hold: hold, play: play)\n",
        "  let output = model(input.rankLifted())\n",
        "  let valueOutput = Double(output.value.scalarized())\n",
        "  let policyOutput = output.policy[0] // shape = (10, 20, 8)\n",
        "  \n",
        "  let priorsArray = legalMoves.map { move -> Double in\n",
        "    guard move.y < 20 else { return 0 }\n",
        "    let typeIndex = (move.type == play.first) ? 4 : 0\n",
        "    let pieceAndOrientation = typeIndex + move.orientation.rawValue\n",
        "    let tensorValue = policyOutput[move.x, move.y, pieceAndOrientation]\n",
        "    return Double(tensorValue.scalarized())\n",
        "  }\n",
        "\n",
        "  var priors = Tensor(priorsArray)\n",
        "  priors = priors / priors.sum()  // Normalize again\n",
        "  \n",
        "  return (value: valueOutput, priors: priors)\n",
        "}"
      ],
      "execution_count": 0,
      "outputs": []
    },
    {
      "cell_type": "markdown",
      "metadata": {
        "id": "4nrqZzP4gbP9",
        "colab_type": "text"
      },
      "source": [
        "# MCTS"
      ]
    },
    {
      "cell_type": "markdown",
      "metadata": {
        "id": "YljrqtnYUo_g",
        "colab_type": "text"
      },
      "source": [
        "### Node"
      ]
    },
    {
      "cell_type": "code",
      "metadata": {
        "id": "rVxsDe3nge0D",
        "colab_type": "code",
        "colab": {}
      },
      "source": [
        "class MCTSNode {\n",
        "  // Game state\n",
        "  let field: Field\n",
        "  let hold: Tetromino\n",
        "  let garbageCleared: Int\n",
        "  \n",
        "  // Tree structure: parent\n",
        "  private(set) weak var parent: MCTSNode?\n",
        "  let indexInParent: Int\n",
        "\n",
        "  // Children\n",
        "  var legalMoves = [Piece]()\n",
        "  var children = [MCTSNode?]()\n",
        "  var moveIndices = [Piece : Int]()\n",
        "\n",
        "  // Evaluation\n",
        "  var priors = Tensor<Double>.zero\n",
        "  var childW = Tensor<Double>.zero\n",
        "  var childN = Tensor<Double>.zero\n",
        "  \n",
        "  // Initializer\n",
        "  init(field: Field,\n",
        "       hold: Tetromino,\n",
        "       garbageCleared: Int,\n",
        "       parent: MCTSNode? = nil,\n",
        "       indexInParent: Int = 0) {\n",
        "    self.field = field\n",
        "    self.hold = hold\n",
        "    self.garbageCleared = garbageCleared\n",
        "    self.parent = parent\n",
        "    self.indexInParent = indexInParent\n",
        "  }\n",
        "}\n",
        "\n",
        "extension MCTSNode: CustomDebugStringConvertible {\n",
        "  public var debugDescription: String {\n",
        "    return \"MCTSNode(hold: \\(hold), cleared: \\(garbageCleared), children: \\(children.count))\"\n",
        "  }\n",
        "}\n",
        "\n",
        "extension MCTSNode: Hashable {\n",
        "  \n",
        "  static func ==(lhs: MCTSNode, rhs: MCTSNode) -> Bool {\n",
        "    // It seems likely that I might see collisions, because you can place\n",
        "    // pieces in different orders using hold to get to the same state,\n",
        "    // yet for nodes not yet evaluated, this is probably the most I can do.\n",
        "    return lhs.field == rhs.field\n",
        "      && lhs.hold == rhs.hold\n",
        "      && lhs.garbageCleared == rhs.garbageCleared\n",
        "      && lhs.indexInParent == rhs.indexInParent\n",
        "      && lhs.legalMoves.last?.type == rhs.legalMoves.last?.type // play piece (?)\n",
        "  }\n",
        "  \n",
        "  var hashValue: Int {\n",
        "    return (field.hashValue << 3) | hold.hashValue\n",
        "  }\n",
        "}"
      ],
      "execution_count": 0,
      "outputs": []
    },
    {
      "cell_type": "markdown",
      "metadata": {
        "id": "_shkPQFuU2d0",
        "colab_type": "text"
      },
      "source": [
        "### Node methods"
      ]
    },
    {
      "cell_type": "code",
      "metadata": {
        "id": "v5U4yEAsUnYr",
        "colab_type": "code",
        "colab": {}
      },
      "source": [
        "extension MCTSNode {\n",
        "  \n",
        "  var move: Piece {\n",
        "    guard let parent = parent else {\n",
        "      fatalError(\"Can't get move if don't have parent\")\n",
        "    }\n",
        "    return parent.legalMoves[indexInParent]\n",
        "  }\n",
        "  \n",
        "  var hasChildren: Bool {\n",
        "    return !children.isEmpty\n",
        "  }\n",
        "  \n",
        "  func setupChildren(playPiece: Tetromino) {\n",
        "    assert(!hasChildren, \"setupChildren should only need to be done once\")\n",
        "    \n",
        "    let availableTypes = (playPiece == hold) ? [hold] : [hold, playPiece]\n",
        "    legalMoves = field.findAllSimplePlacements(for: availableTypes)\n",
        "\n",
        "    let count = legalMoves.count\n",
        "    moveIndices = Dictionary(uniqueKeysWithValues: zip(legalMoves, 0..<count))\n",
        "\n",
        "    children = Array<MCTSNode?>.init(repeating: nil, count: count)\n",
        "    priors = Tensor(randomUniform: [count]) * 0.01 + (1 / Double(count + 1))\n",
        "    childW = Tensor(zeros: [count])\n",
        "    childN = Tensor(zeros: [count])\n",
        "  }\n",
        "  \n",
        "  func getMostVisitedChild() -> MCTSNode? {\n",
        "    guard hasChildren else { return nil }\n",
        "\n",
        "    let index = Int(childN.argmax().scalarized())\n",
        "    \n",
        "    // This could still return nil, if no child has been visited\n",
        "    return children[index]\n",
        "  }\n",
        "  \n",
        "  func getHighestValuedChild() -> MCTSNode {\n",
        "    assert(hasChildren, \"Can't get highest valued child before having children\")\n",
        "    \n",
        "    let bestIndex = Int(childrenActionScores.argmax().scalarized())\n",
        "\n",
        "    return children[bestIndex] ?? initiateChildNode(bestIndex)\n",
        "  }\n",
        "  \n",
        "  func initiateChildNode(_ index: Int) -> MCTSNode {\n",
        "    let placedPiece = legalMoves[index]\n",
        "    let (nextField, newGarbageCleared) = field.lockDown(placedPiece)\n",
        "    \n",
        "    // Cheat a little. The two available pieces are hold and play.  I have the\n",
        "    // hold piece and not the play piece, but can extract them both from the\n",
        "    // legal moves because they were generated with the two pieces.\n",
        "    // The new hold piece is whichever not placed.\n",
        "    let tetrominos = (legalMoves.first!.type, legalMoves.last!.type)\n",
        "    let newHold = (placedPiece.type == tetrominos.0) ? tetrominos.1 : tetrominos.0\n",
        "    \n",
        "    let childNode = MCTSNode(field: nextField,\n",
        "                             hold: newHold,\n",
        "                             garbageCleared: garbageCleared + newGarbageCleared,\n",
        "                             parent: self, \n",
        "                             indexInParent: index)\n",
        "    children[index] = childNode\n",
        "    \n",
        "    return childNode\n",
        "  }\n",
        "  \n",
        "  var childrenActionScores: Tensor<Double> {\n",
        "    let Q = meanActionValue\n",
        "    let U = puctValue\n",
        "    \n",
        "//     data1.append(contentsOf: Q.scalars)\n",
        "//     data2.append(contentsOf: U.scalars)\n",
        "    \n",
        "    return Q + U\n",
        "  }\n",
        "  \n",
        "  var meanActionValue: Tensor<Double> {\n",
        "    return childW / (1 + childN)\n",
        "  }\n",
        "  \n",
        "  var puctValue: Tensor<Double> {\n",
        "    let puctConstant = 2.0 // MiniGo uses 2.0\n",
        "    \n",
        "    // C: Exploration Rate, grows pretty slowly over time\n",
        "    let cBase = 19652.0\n",
        "    let cInitial = 1.25\n",
        "\n",
        "    let totalN = childN.sum().scalarized()\n",
        "    let adjustedTotalN = max(1, totalN - 1)\n",
        "\n",
        "    let C = cInitial + log((1 + totalN + cBase) / cBase)\n",
        "\n",
        "    return puctConstant * C * priors * sqrt(adjustedTotalN) / (1 + childN)\n",
        "  }\n",
        "\n",
        "}"
      ],
      "execution_count": 0,
      "outputs": []
    },
    {
      "cell_type": "markdown",
      "metadata": {
        "id": "WX-z45-cionZ",
        "colab_type": "text"
      },
      "source": [
        "### Game support"
      ]
    },
    {
      "cell_type": "markdown",
      "metadata": {
        "id": "GUzdnsqri3PT",
        "colab_type": "text"
      },
      "source": [
        "Ideally this is should not be placed under MCTS, but right now gameplay is tied up with the MCTSTree (the tree needs full information of the game, that is, the field and play piece sequence), and trial game runs are done with manual control flows."
      ]
    },
    {
      "cell_type": "code",
      "metadata": {
        "id": "hsRN5KVtiuDK",
        "colab_type": "code",
        "colab": {}
      },
      "source": [
        "class PieceGenerator {\n",
        "  private var storage: [Tetromino] = []\n",
        "  \n",
        "  var offset = 0\n",
        "\n",
        "  init() {}\n",
        "  \n",
        "  subscript(index: Int) -> Tetromino {\n",
        "    get {\n",
        "      let internalIndex = index + offset\n",
        "      while internalIndex >= storage.count {\n",
        "        storage.append(contentsOf: Tetromino.allCases.shuffled())\n",
        "      }\n",
        "      return storage[internalIndex]\n",
        "    }    \n",
        "  }\n",
        "}\n",
        "\n",
        "class GarbageGenerator {\n",
        "  private var holePositions: [Int] = [Int.random(in: 0..<10)]\n",
        "  \n",
        "  var offset = 0\n",
        "\n",
        "  init() {}\n",
        "  \n",
        "  subscript(index: Int) -> Int16 {\n",
        "    get {\n",
        "      let internalIndex = index + offset\n",
        "      while internalIndex >= holePositions.count {\n",
        "        let lastHolePosition = holePositions.last!\n",
        "        holePositions.append((lastHolePosition + Int.random(in: 1..<10)) % 10)\n",
        "      }\n",
        "      return 0b11111_11111 ^ (1 << holePositions[internalIndex])\n",
        "    }    \n",
        "  }\n",
        "}"
      ],
      "execution_count": 0,
      "outputs": []
    },
    {
      "cell_type": "markdown",
      "metadata": {
        "id": "zQ9YgRlah6Tu",
        "colab_type": "text"
      },
      "source": [
        "### Tree"
      ]
    },
    {
      "cell_type": "code",
      "metadata": {
        "id": "-6-O-97Ph8HC",
        "colab_type": "code",
        "colab": {}
      },
      "source": [
        "class MCTSTree {\n",
        "  let pieceSequence: PieceGenerator\n",
        "  let garbages: GarbageGenerator\n",
        "\n",
        "  let model: TetrisModel\n",
        "\n",
        "  var root: MCTSNode\n",
        "    \n",
        "  init(field: Field,\n",
        "       pieceSequence: PieceGenerator,\n",
        "       garbages: GarbageGenerator,\n",
        "       model: TetrisModel) {\n",
        "    self.pieceSequence = pieceSequence\n",
        "    self.garbages = garbages\n",
        "    self.model = model\n",
        "    self.root = MCTSNode(field: field,\n",
        "                         hold: pieceSequence[0],\n",
        "                         garbageCleared: 0)\n",
        "    pieceSequence.offset += 1\n",
        "  }  \n",
        "}\n",
        "\n",
        "extension MCTSTree {\n",
        "  convenience init(model: TetrisModel = TetrisModel()) {\n",
        "    \n",
        "    let pieceSequence = PieceGenerator()\n",
        "    let garbages = GarbageGenerator()\n",
        "    let field = Field.init(storage: (0 ..< 10).map { garbages[$0] },\n",
        "                           garbageCount: 10)\n",
        "    \n",
        "    self.init(field: field,\n",
        "              pieceSequence: pieceSequence,\n",
        "              garbages: garbages,\n",
        "              model: model)\n",
        "  }\n",
        "}"
      ],
      "execution_count": 0,
      "outputs": []
    },
    {
      "cell_type": "markdown",
      "metadata": {
        "id": "XypOkKO_p0sx",
        "colab_type": "text"
      },
      "source": [
        "### Tree climbing, er, traversal"
      ]
    },
    {
      "cell_type": "code",
      "metadata": {
        "id": "HJCbooMzp4M8",
        "colab_type": "code",
        "colab": {}
      },
      "source": [
        "extension MCTSTree {\n",
        "  \n",
        "  /// Do MCTS selection to find a new node to evaluate.\n",
        "  /// Here, I use whether the node's children has been set up to decide\n",
        "  /// whether I can go deeper.  The search sequence is responsible to set up\n",
        "  /// a node with children, and evaluate the node, in the right order.\n",
        "  func selectBestUnevaluatedNode() -> (node: MCTSNode, depth: Int) {    \n",
        "\n",
        "    var node = root\n",
        "    var depth = 0\n",
        "    \n",
        "    while node.hasChildren {\n",
        "      node = node.getHighestValuedChild()\n",
        "      depth += 1\n",
        "    }\n",
        "    return (node: node, depth: depth)\n",
        "  }\n",
        "  \n",
        "  func backPropagate(from node: MCTSNode, value: Double, visits: Double = 1) {\n",
        "    var childNode = node\n",
        "    while let parentNode = childNode.parent {\n",
        "      parentNode.childW[childNode.indexInParent] += value\n",
        "      parentNode.childN[childNode.indexInParent] += visits\n",
        "      childNode = parentNode\n",
        "    }\n",
        "  }\n",
        "  \n",
        "}"
      ],
      "execution_count": 0,
      "outputs": []
    },
    {
      "cell_type": "code",
      "metadata": {
        "id": "LYH7WBD2tPuL",
        "colab_type": "code",
        "colab": {}
      },
      "source": [
        "extension MCTSTree {\n",
        "  \n",
        "    func getMostTraveledPath() -> [MCTSNode] {\n",
        "    var path = [root]\n",
        "    var node = root\n",
        "    while let child = node.getMostVisitedChild() {\n",
        "      path.append(child)\n",
        "      node = child\n",
        "    }\n",
        "    return path\n",
        "  }\n",
        "  \n",
        "  func getReversePath(leaf: MCTSNode) -> [MCTSNode] {\n",
        "    var path = [leaf]\n",
        "    var node = leaf\n",
        "    while let parent = node.parent {\n",
        "      path.insert(parent, at: 0)\n",
        "      node = parent\n",
        "    }\n",
        "    return path\n",
        "  }\n",
        "  \n",
        "}"
      ],
      "execution_count": 0,
      "outputs": []
    },
    {
      "cell_type": "markdown",
      "metadata": {
        "id": "VoONl2Ukz1uW",
        "colab_type": "text"
      },
      "source": [
        "### Evaluate with BCTS"
      ]
    },
    {
      "cell_type": "code",
      "metadata": {
        "id": "LPHB7LHCqJa9",
        "colab_type": "code",
        "colab": {}
      },
      "source": [
        "/// BCTS value, according to the Building Controllers for Tetris paper\n",
        "/// Thiery & Scherrer\n",
        "/// This value seems basically always in the negatives, from minus a few hundred\n",
        "/// to >3000 in utterly terrible fields\n",
        "func calculateBctsValue(_ node: MCTSNode) -> Double {\n",
        "  guard let parent = node.parent else { return 0 }\n",
        "\n",
        "  let field = node.field\n",
        "  let piece = parent.legalMoves[node.indexInParent]\n",
        "  let lines = field.storage\n",
        "  \n",
        "  // Landing height\n",
        "  let landingHeight = Double(piece.y - field.garbageCount)\n",
        "\n",
        "  // Eroded piece cells\n",
        "  // (similar to locking down a piece on field)\n",
        "  let parentField = parent.field\n",
        "  let pieceIndex = piece.typeAndOrientationIndex\n",
        "  let pieceMasks = unshiftedPieceBitmasks[pieceIndex]\n",
        "  let bottomRow = piece.y - bottomRowOffsets[pieceIndex]\n",
        "\n",
        "  var linesCleared = 0\n",
        "  var cellsEroded = 0\n",
        "  for (i, var mask) in pieceMasks.enumerated() {\n",
        "    mask <<= (piece.x - 2)\n",
        "    let row = bottomRow + i\n",
        "    if row < parentField.height {\n",
        "      let line = parentField.storage[row]\n",
        "      if line | mask == 0b11111_11111 {\n",
        "        linesCleared += 1\n",
        "        cellsEroded += (10 - line.nonzeroBitCount)\n",
        "      }\n",
        "    }\n",
        "  }\n",
        "\n",
        "  let erodedPieceCells = Double(linesCleared * cellsEroded)\n",
        "\n",
        "  // Row transitions\n",
        "  let rowTransitions: Double = lines\n",
        "                                 .reduce(0.0) {\n",
        "                                   let left = ($1 << 1) + 1\n",
        "                                   let right = $1 + 1024\n",
        "                                   return $0 + Double((left ^ right).nonzeroBitCount)\n",
        "                                 }\n",
        "  \n",
        "  // Column transitions\n",
        "  let columnTransitions: Double = zip(lines, lines.dropFirst() + [0])\n",
        "                                    .reduce(0.0) {\n",
        "                                      $0 + Double(($1.0 ^ $1.1).nonzeroBitCount)\n",
        "                                    }\n",
        "\n",
        "  // Indices of top filled cell of each column, -1 if empty (not used in score)\n",
        "  let columnTops: [Int] = (0 ..< 10).map { (index) -> Int in\n",
        "    let mask: Int16 = 1 << index\n",
        "    return lines.lastIndex { $0 & mask != 0 } ?? -1\n",
        "  }\n",
        "  \n",
        "  // Holes\n",
        "  var holeMask: Int16 = 0\n",
        "  var holeCount = 0\n",
        "  var rowsWithHolesCount = 0\n",
        "  var rowsWithHolesMask: Int16 = 0\n",
        "  for line in lines.reversed() {\n",
        "    let maskedLine = holeMask & ~line\n",
        "    holeMask |= line\n",
        "    if maskedLine != 0 {\n",
        "      holeCount += maskedLine.nonzeroBitCount\n",
        "      rowsWithHolesCount += 1\n",
        "      rowsWithHolesMask |= maskedLine\n",
        "    }\n",
        "  }\n",
        "\n",
        "  let holes = Double(holeCount)\n",
        "\n",
        "  // Cumulative wells\n",
        "  // Cheat a little and assume the first found well entrance \"X.X\" extends\n",
        "  // all the way to filled top, skip further checking\n",
        "  let walledLines = lines.map { ($0 << 1) | 0b1_00000_00000_1 }\n",
        "  let columnWellSums: [Int] = (0 ..< 10).map { (column) -> Int in\n",
        "    // Calculation first \"AND\" left side of the column, then shift it to \"AND\"\n",
        "    // right side of column.  Watch out that walledLines is shifted by 1\n",
        "    let columnTopIndex = columnTops[column]\n",
        "    let mask: Int16 = 1 << Int16(column)\n",
        "\n",
        "    var wellSum = 0\n",
        "    var index = walledLines.count - 1\n",
        "    while index > columnTopIndex {\n",
        "      let line = walledLines[index]\n",
        "      if ((line & mask) << 2) & line != 0 {\n",
        "        let wellHeight = index - columnTopIndex\n",
        "        wellSum = wellHeight * (wellHeight + 1) / 2\n",
        "        break\n",
        "      }\n",
        "      index -= 1\n",
        "    }\n",
        "    return wellSum\n",
        "  }\n",
        "\n",
        "  let cumulativeWells = Double(columnWellSums.reduce(0, +))\n",
        "\n",
        "  // Hole depth\n",
        "  let holeDepths: [Int] = (0 ..< 10).map { (column) -> Int in\n",
        "    let mask: Int16 = 1 << Int16(column)\n",
        "    if mask & rowsWithHolesMask == 0 {\n",
        "      return 0\n",
        "    }\n",
        "    // Find the last filled cell from the top filled cell, then down by 1\n",
        "    let columnTopIndex = columnTops[column]\n",
        "    let topHoleIndex = lines[...columnTopIndex].lastIndex { $0 & mask == 0 }!\n",
        "    return columnTopIndex - topHoleIndex\n",
        "  }\n",
        "\n",
        "  let holeDepth = Double(holeDepths.reduce(0, +))\n",
        "  \n",
        "  // Rows with holes\n",
        "  let rowsWithHoles = Double(rowsWithHolesCount)\n",
        "\n",
        "  // These are ordered as in the Thiery & Scherrer paper, and the first 6 are\n",
        "  // used by Dellacherie\n",
        "  return (-12.63 * landingHeight) +\n",
        "         (  6.60 * erodedPieceCells) +\n",
        "         ( -9.22 * rowTransitions) +\n",
        "         (-19.77 * columnTransitions) +\n",
        "         (-13.08 * holes) +\n",
        "         (-10.49 * cumulativeWells) +\n",
        "         ( -1.61 * holeDepth) +\n",
        "         (-24.04 * rowsWithHoles)\n",
        "}\n",
        "  \n"
      ],
      "execution_count": 0,
      "outputs": []
    },
    {
      "cell_type": "code",
      "metadata": {
        "id": "ZwTPUyUMfU0V",
        "colab_type": "code",
        "colab": {}
      },
      "source": [
        "/// Simple old-school evaluation to make things work ok\n",
        "/// Good for testing without the neural network evaluation\n",
        "func bctsEvaluate(_ node: MCTSNode, depth: Int) -> (value: Double, priors: Tensor<Double>) {\n",
        "  \n",
        "  var value: Double\n",
        "  \n",
        "  if depth == 0 {\n",
        "    value = 1\n",
        "  } else {\n",
        "    value = Double(node.garbageCleared) / Double(depth + 10)\n",
        "  }\n",
        "  \n",
        "  // Try: adding BCTS\n",
        "  let bcts = 3.5 + calculateBctsValue(node) / 300\n",
        "  \n",
        "  if bcts > 0 {\n",
        "    value = bcts * (1 + value)\n",
        "  } else {\n",
        "    value = bcts\n",
        "  }\n",
        "  \n",
        "  // Try: \"Winning\" is a special case\n",
        "  if node.field.garbageCount == 0 {\n",
        "    value += 2\n",
        "  }\n",
        "  \n",
        "//      data1.append(value)\n",
        "//      data2.append(bcts)\n",
        "  \n",
        "\n",
        "  // Priors: Placements that clears a garbage line is given preference\n",
        "  let childrenGarbageCleared: [Double] = node.legalMoves.map {\n",
        "    return Double(node.field.lockDown($0).garbageCleared)\n",
        "  }\n",
        "  \n",
        "  var priors = Tensor(childrenGarbageCleared) * 0.01\n",
        "  \n",
        "  // Try: Add some noise\n",
        "  let noise = Tensor<Double>(randomUniform: priors.shape) * 0.02\n",
        "  priors += noise\n",
        "  \n",
        "  // Try: Add a uniform prior\n",
        "  priors += 0.2\n",
        "  \n",
        "  // Try: Just don't give a prior.  Make it a flat value.\n",
        "//   priors = priors * 0 + 0.2\n",
        "    \n",
        "  return (value: value, priors: priors)\n",
        "}\n"
      ],
      "execution_count": 0,
      "outputs": []
    },
    {
      "cell_type": "markdown",
      "metadata": {
        "id": "Nv_Xnse-25ty",
        "colab_type": "text"
      },
      "source": [
        "### Tree search sequence"
      ]
    },
    {
      "cell_type": "code",
      "metadata": {
        "id": "WJ2Q9OsR2-Fd",
        "colab_type": "code",
        "colab": {}
      },
      "source": [
        "// Sequential search, not really used anymore\n",
        "\n",
        "extension MCTSTree {\n",
        "  \n",
        "  func performSearch(times: Int = 1000) {\n",
        "    for iteration in 1 ... times {\n",
        "      \n",
        "      if iteration % 1000 == 0 {\n",
        "        print(\"Iteration \\(iteration)\")\n",
        "      }\n",
        "      \n",
        "      // Selection & expansion\n",
        "      let (node, depth) = selectBestUnevaluatedNode()\n",
        "    \n",
        "      // Evaluation & backpropagation\n",
        "      let playPiece = pieceSequence[depth]\n",
        "      node.setupChildren(playPiece: playPiece)\n",
        "    \n",
        "//       let (value, priors) = bctsEvaluate(node, depth: depth)\n",
        "      let (value, priors) = modelEvaluate(model: model,\n",
        "                                    field: node.field,\n",
        "                                    legalMoves: node.legalMoves,\n",
        "                                    hold: .I,\n",
        "                                    play: (0...5).map { pieceSequence[$0] })\n",
        "      \n",
        "      node.priors = priors\n",
        "      backPropagate(from: node, value: value)\n",
        "    }\n",
        "  }  \n",
        "}"
      ],
      "execution_count": 0,
      "outputs": []
    },
    {
      "cell_type": "code",
      "metadata": {
        "id": "y4zvLfAA0oM0",
        "colab_type": "code",
        "colab": {}
      },
      "source": [
        "// Parallel search\n",
        "\n",
        "extension MCTSTree {\n",
        "  \n",
        "  func makeInputTensor(nodeDepths: [(MCTSNode, Int)]) -> Tensor<Float> {\n",
        "//         var start = Date()\n",
        "\n",
        "    let tensors = nodeDepths.map { (node, depth) -> Tensor<Float> in \n",
        "      return constructFeaturePlanes(field: node.field,\n",
        "                                    hold: node.hold,\n",
        "                                    play: (0...5).map { pieceSequence[$0 + depth]})\n",
        "    }\n",
        "    let result = tensors.reduce(Tensor<Float>(zeros: [0, 10, 20, 36])) {\n",
        "      $0.concatenated(with: $1.rankLifted())\n",
        "    }\n",
        "    \n",
        "//         data1.append(Date().timeIntervalSince(start))\n",
        "    \n",
        "    return result\n",
        "\n",
        "  }\n",
        "  \n",
        "  func parseModelPolicy(policyOutput: Tensor<Float>,\n",
        "                        legalMoves: [Piece],\n",
        "                        play: Tetromino) -> Tensor<Double> {\n",
        "    \n",
        "    let priorsArray = legalMoves.map { move -> Double in\n",
        "      guard move.y < 20 else { return 0 }\n",
        "      let typeIndex = (move.type == play) ? 4 : 0\n",
        "      let pieceAndOrientation = typeIndex + move.orientation.rawValue\n",
        "      let tensorValue = policyOutput[move.x, move.y, pieceAndOrientation]\n",
        "      return Double(tensorValue.scalarized())\n",
        "    }\n",
        "\n",
        "    return Tensor(priorsArray)\n",
        "  }\n",
        "  \n",
        "  func performParallelSearch(maxBatchSize: Int = 1) {\n",
        "    \n",
        "    var nodeVisits = [MCTSNode : Int]()\n",
        "    var nodeDepths = [(MCTSNode, Int)]() // Use this for ordering\n",
        "\n",
        "    // Gather a batch of nodes by selecting maxBatchSize times\n",
        "    for _ in 0 ..< maxBatchSize {\n",
        "      let (node, depth) = selectBestUnevaluatedNode()\n",
        "      \n",
        "      // Add virtual loss\n",
        "      backPropagate(from: node, value: -1)\n",
        "\n",
        "      // Book keeping\n",
        "      let previousVisits = nodeVisits[node] ?? 0\n",
        "      if previousVisits == 0 {\n",
        "        nodeDepths.append((node, depth))\n",
        "      }\n",
        "      nodeVisits[node] = previousVisits + 1\n",
        "    }\n",
        "        \n",
        "    // Evaluate batch\n",
        "    let input: Tensor<Float> = makeInputTensor(nodeDepths: nodeDepths)\n",
        "    \n",
        "    let output: TetrisModelOutput = model(input)\n",
        "    \n",
        "    let values = output.value.scalars.map(Double.init)\n",
        "\n",
        "    // Update tree\n",
        "    for (index, (node, depth)) in nodeDepths.enumerated() {\n",
        "            \n",
        "      // Setup children\n",
        "      let playPiece = pieceSequence[depth]\n",
        "      node.setupChildren(playPiece: playPiece)\n",
        "      \n",
        "      // Save priors, re-normalize here\n",
        "      let priors = parseModelPolicy(policyOutput: output.policy[index],\n",
        "                                    legalMoves: node.legalMoves,\n",
        "                                    play: playPiece)\n",
        "      node.priors = priors / priors.sum()\n",
        "\n",
        "      // Propagate value, and reverse virtual loss\n",
        "      let visits = Double(nodeVisits[node]!)\n",
        "      backPropagate(from: node, value: values[index] + visits, visits: 1 - visits)\n",
        "      \n",
        "    }\n",
        "   \n",
        "  }\n",
        "\n",
        "}\n"
      ],
      "execution_count": 0,
      "outputs": []
    },
    {
      "cell_type": "code",
      "metadata": {
        "id": "nQhByi4m0jsT",
        "colab_type": "code",
        "colab": {}
      },
      "source": [
        "extension MCTSTree {\n",
        "  \n",
        "  func promoteToRoot(node: MCTSNode) {\n",
        "    assert(node.parent == root)\n",
        "    root = node\n",
        "    pieceSequence.offset += 1\n",
        "    garbages.offset += 1    \n",
        "  }\n",
        "  \n",
        "  func promoteBestChildToRoot() {\n",
        "    guard let bestChild = root.getMostVisitedChild() else {\n",
        "      assertionFailure(\"Root node has no children.\")\n",
        "      return\n",
        "    }\n",
        "    promoteToRoot(node: bestChild)\n",
        "  }\n",
        "  \n",
        "}"
      ],
      "execution_count": 0,
      "outputs": []
    },
    {
      "cell_type": "markdown",
      "metadata": {
        "id": "dXi7GL3HYeJ4",
        "colab_type": "text"
      },
      "source": [
        "### Printing next move"
      ]
    },
    {
      "cell_type": "code",
      "metadata": {
        "id": "AURBuNXVYiCB",
        "colab_type": "code",
        "colab": {}
      },
      "source": [
        "extension MCTSTree {\n",
        "  func printBestMove() {\n",
        "    // Lots of duplicate printing logic, but it'll do for now\n",
        "    guard let bestChild = root.getMostVisitedChild() else {\n",
        "      print(\"No best move yet.\")\n",
        "      return\n",
        "    }\n",
        "    \n",
        "    var lines = root.field.storage\n",
        "\n",
        "    let piece = root.legalMoves[bestChild.indexInParent]\n",
        "    let pieceIndex = piece.typeAndOrientationIndex\n",
        "    let pieceMasks = unshiftedPieceBitmasks[pieceIndex].map { $0 << (piece.x - 2)}\n",
        "    let pieceBottomRow = piece.y - bottomRowOffsets[pieceIndex]\n",
        "    let pieceTopRow = pieceBottomRow + (pieceMasks.count - 1)\n",
        "    \n",
        "    while lines.count <= pieceTopRow {\n",
        "      lines.append(0)\n",
        "    }\n",
        "    \n",
        "    var stringField: [[String]] = lines.map { _ in\n",
        "      Array(repeating: \" \", count: 10)\n",
        "    }\n",
        "\n",
        "    for (y, line) in lines.enumerated() {\n",
        "      for x in 0 ..< 10 {\n",
        "        if line & (1 << x) != 0 {\n",
        "          stringField[y][x] = \"O\"\n",
        "        }\n",
        "      }\n",
        "    }\n",
        "\n",
        "    for (y, mask) in zip(pieceBottomRow ... pieceTopRow, pieceMasks) {\n",
        "      for x in 0 ..< 10 {\n",
        "        if mask & (1 << x) != 0 {\n",
        "          stringField[y][x] = \"X\"\n",
        "        }\n",
        "      }\n",
        "    }\n",
        "\n",
        "    let stringLines = stringField.reversed().map { \"  \" + $0.joined(separator: \" \")}\n",
        "    print(stringLines.joined(separator: \"\\n\"))\n",
        "    \n",
        "  }\n",
        "}"
      ],
      "execution_count": 0,
      "outputs": []
    },
    {
      "cell_type": "code",
      "metadata": {
        "id": "ERXMUq1jZWVL",
        "colab_type": "code",
        "colab": {}
      },
      "source": [
        "func printTree(node: MCTSNode, depth: Int = 0) {\n",
        "  print(String(repeating: \"    \", count: depth) + \"\\(node)\")\n",
        "  for child in node.children {\n",
        "    child.map { printTree(node: $0, depth: depth + 1) }\n",
        "  }\n",
        "}"
      ],
      "execution_count": 0,
      "outputs": []
    },
    {
      "cell_type": "markdown",
      "metadata": {
        "id": "MNHm8My1qi9I",
        "colab_type": "text"
      },
      "source": [
        "# Notebook Methods"
      ]
    },
    {
      "cell_type": "markdown",
      "metadata": {
        "id": "FSqWpTIuxORO",
        "colab_type": "text"
      },
      "source": [
        "### Use matplotlib to draw the field"
      ]
    },
    {
      "cell_type": "code",
      "metadata": {
        "id": "wzCVtKPsQwYD",
        "colab_type": "code",
        "colab": {}
      },
      "source": [
        "func draw(_ field: Field) {\n",
        "  let filledBlocks = np.array(field.storage.map { number in\n",
        "    (0..<10).map { i in number & (1 << i) == 0 }\n",
        "  })\n",
        "\n",
        "  plt.figure(figsize: [5, 8])\n",
        "  \n",
        "  let ax = plt.gca()\n",
        "  let im = ax.imshow(filledBlocks, cmap: \"gray\", vmin: -0.2, vmax: 1.2)\n",
        "  \n",
        "    ax.set_xticks(np.arange(filledBlocks.shape[1]+1) - 0.5, minor: true)\n",
        "  ax.set_yticks(np.arange(filledBlocks.shape[0]+1) - 0.5, minor: true)\n",
        "  ax.grid(which: \"minor\", color: \"w\", linestyle: \"-\", linewidth: 3)\n",
        "  ax.invert_yaxis()\n",
        "  \n",
        "  plt.show()\n",
        "}"
      ],
      "execution_count": 0,
      "outputs": []
    },
    {
      "cell_type": "markdown",
      "metadata": {
        "id": "aGZ6Oi3_bUu_",
        "colab_type": "text"
      },
      "source": [
        "### Game data recording"
      ]
    },
    {
      "cell_type": "markdown",
      "metadata": {
        "id": "X8sSKanHbvSr",
        "colab_type": "text"
      },
      "source": [
        "Saving raw data with numpy seems like a pretty clean way to go.\n",
        "\n",
        "For each generated move, save as training data:\n",
        "- game id (maybe use game start unix time)\n",
        "- move index\n",
        "- field\n",
        "- hold piece\n",
        "- play and (up to 5) preview pieces (to reconstruct model input)\n",
        "- garbage cleared count (to calculate value)\n",
        "- legal moves with visit counts (for policy labels), note each type has at most 34 simple placements.  Keeping 75 should be enough to account to the vast majority of situations, except in unnatural fields with a lot of twist/slide moves."
      ]
    },
    {
      "cell_type": "code",
      "metadata": {
        "id": "wLFNzsC7BRtU",
        "colab_type": "code",
        "colab": {}
      },
      "source": [
        "class GameRecorder {\n",
        "  \n",
        "  static let fieldsCount = 1 + 1 + 20 + 1 + 6 + 1 + 75 * 2 // 180\n",
        "\n",
        "  var startTime = Date()\n",
        "  var moveId = 0\n",
        "\n",
        "  // Array of 1-D integer numpy arrays\n",
        "  var data = [PythonObject]()\n",
        "  \n",
        "  init() {}\n",
        "  \n",
        "  func setNewGame() {\n",
        "    startTime = Date()\n",
        "    moveId = 0\n",
        "  }\n",
        " \n",
        "  func save(fileName: String) {\n",
        "    // Since data is mostly small integers, saving as text is\n",
        "    // smaller than Int64, plus it's human-readable\n",
        "    np.savetxt(fileName, numpyData, fmt: \"%i\")\n",
        "  }\n",
        "}\n",
        "\n",
        "extension GameRecorder {\n",
        "  var numpyData: PythonObject {\n",
        "    return np.concatenate(data).reshape([-1, GameRecorder.fieldsCount])\n",
        "  }\n",
        "}"
      ],
      "execution_count": 0,
      "outputs": []
    },
    {
      "cell_type": "code",
      "metadata": {
        "id": "7Kqv7Iaop7mQ",
        "colab_type": "code",
        "colab": {}
      },
      "source": [
        "extension GameRecorder{\n",
        "  func save() {\n",
        "    let formatter = DateFormatter()\n",
        "    formatter.dateFormat = \"yyyy-MM-dd_HH-mm\"\n",
        "    save(fileName: \"GameRecords_\" + formatter.string(from: Date()))\n",
        "  }\n",
        "}"
      ],
      "execution_count": 0,
      "outputs": []
    },
    {
      "cell_type": "code",
      "metadata": {
        "id": "wS23Wdb7bTkT",
        "colab_type": "code",
        "colab": {}
      },
      "source": [
        "extension Array where Element: ExpressibleByIntegerLiteral {\n",
        "  func makeLength(_ length: Int) -> Array<Element> {\n",
        "    if count == length {\n",
        "      return self\n",
        "    } else if count > length {\n",
        "      return Array(self[0..<length])\n",
        "    } else {\n",
        "      return self + Array(repeating: 0, count: length - count)\n",
        "    }\n",
        "  }\n",
        "}\n",
        "\n",
        "extension GameRecorder {\n",
        "  \n",
        "  func addPosition(field: Field,\n",
        "                   hold: Tetromino,\n",
        "                   play: [Tetromino],\n",
        "                   garbageCleared: Int,\n",
        "                   legalMoves: [Piece],\n",
        "                   childN: Tensor<Double>) {\n",
        "    var values = [Int]()\n",
        "    // Timestamp as ID\n",
        "    values.append(Int(startTime.timeIntervalSince1970))\n",
        "    // Move ID\n",
        "    values.append(moveId)\n",
        "    moveId += 1\n",
        "    // Field\n",
        "    values.append(contentsOf: field.storage.map(Int.init).makeLength(20))\n",
        "    // Hold\n",
        "    values.append(hold.rawValue)\n",
        "    // Play + up to 5 previews\n",
        "    values.append(contentsOf: play.map({ $0.rawValue }).makeLength(6))\n",
        "    // Garbage cleared count\n",
        "    values.append(garbageCleared)\n",
        "    // Up to 75 legal moves and their visit counts, sorted by count\n",
        "    let pairs = zip(legalMoves.map({ $0.hashValue }), childN.scalars.map(Int.init))\n",
        "    let sortedPairs = pairs.sorted { $0.1 > $1.1 }\n",
        "    let flattenSortedPairs = pairs.sorted(by: { $0.1 > $1.1 }).flatMap({ [$0.0, $0.1] })\n",
        "    values.append(contentsOf: flattenSortedPairs.makeLength(150))\n",
        "\n",
        "    let numpyArray = values.map(Int64.init).makeNumpyArray()\n",
        "    data.append(numpyArray)\n",
        "  }\n",
        "  \n",
        "}\n",
        "\n",
        "extension GameRecorder {\n",
        "  \n",
        "  func addPosition(tree: MCTSTree) {\n",
        "    \n",
        "    addPosition(field: tree.root.field,\n",
        "                hold: tree.root.hold,\n",
        "                play: (0 ..< 6).map { tree.pieceSequence[$0] },\n",
        "                garbageCleared: tree.root.garbageCleared,\n",
        "                legalMoves: tree.root.legalMoves,\n",
        "                childN: tree.root.childN)\n",
        "  }\n",
        "  \n",
        "}"
      ],
      "execution_count": 0,
      "outputs": []
    },
    {
      "cell_type": "markdown",
      "metadata": {
        "id": "oatBT6OMfRIM",
        "colab_type": "text"
      },
      "source": [
        "### Converting recorded data to training data"
      ]
    },
    {
      "cell_type": "markdown",
      "metadata": {
        "id": "e7QJSx85f0rC",
        "colab_type": "text"
      },
      "source": [
        "The parse functions are very slow right now, and hasn't been adapted to load numpy saved text."
      ]
    },
    {
      "cell_type": "code",
      "metadata": {
        "id": "GugzVbQffQLm",
        "colab_type": "code",
        "colab": {}
      },
      "source": [
        "/// Parse the one-dimensional numpy array representing one move\n",
        "func parseOneMoveData(_ numpyArray: PythonObject) -> (features: Tensor<Float>,\n",
        "                                                      logits: Tensor<Float>) {\n",
        "  guard let array = Array<Int64>(numpy: numpyArray)?.map(Int.init),\n",
        "    array.count == GameRecorder.fieldsCount else { fatalError() }\n",
        "  \n",
        "//   let gameId = array[0]\n",
        "//   let moveId = array[1]\n",
        "  let storage = array[2...21].map(Int16.init).filter { $0 != 0 }\n",
        "  let field = Field.init(storage: storage, garbageCount: 0)\n",
        "  let hold = Tetromino(rawValue: array[22])!\n",
        "  let play = array[23...28].map { Tetromino(rawValue: $0)! }\n",
        "  // let garbageCleared = array[29]\n",
        "\n",
        "  var logits = Tensor<Float>(zeros: [10, 20, 8])\n",
        "  for moveIndex in stride(from: 30, to: GameRecorder.fieldsCount, by: 2) {\n",
        "    let pieceHash = array[moveIndex]\n",
        "    let visits = array[moveIndex + 1]\n",
        "    guard let move = Piece(hashValue: pieceHash) else { break } // e.g. hash = 0\n",
        "    \n",
        "    let typeIndex = (move.type == play.first) ? 4 : 0\n",
        "    let pieceAndOrientation = typeIndex + move.orientation.rawValue\n",
        "\n",
        "    logits[move.x, move.y, pieceAndOrientation] = Tensor(Float(visits))\n",
        "  }\n",
        "  \n",
        "  // Normalize\n",
        "  logits /= logits.sum()\n",
        "  \n",
        "  let features = constructFeaturePlanes(field: field, hold: hold, play: play)\n",
        "    \n",
        "  return (features: features, logits: logits)\n",
        "}"
      ],
      "execution_count": 0,
      "outputs": []
    },
    {
      "cell_type": "code",
      "metadata": {
        "id": "6Z9d9tNxffCl",
        "colab_type": "code",
        "colab": {}
      },
      "source": [
        "func parseGameDataForTraining(_ numpyArray: PythonObject) -> (features: Tensor<Float>,\n",
        "                                                              logits: Tensor<Float>,\n",
        "                                                              values: Tensor<Float>) {\n",
        "  \n",
        "  // The value of a position is defined as the average rate of garbage lines\n",
        "  // cleared per move afterwards.  The rate is calculated as clears/moves for\n",
        "  // the next # moves (# defined below), or to the end of the game.\n",
        "  // Value range: between 0 and 1\n",
        "  let maxAveragingMoves = 20\n",
        "  \n",
        "  // np.unique returns [unique, unique_indices, unique_counts]\n",
        "  let uniqueGameIds = np.unique(numpyArray[0..., 0], return_index: true, return_counts: true)\n",
        "  let garbageCleardCounts = Array<Float>(numpyArray[0..., 29])!\n",
        "\n",
        "  // Pre-construct the big tensors.  Last move of each game is left out because\n",
        "  // value cannot be given when there's no future move.\n",
        "  let finalCount = Int(numpyArray.shape[0] - uniqueGameIds[0].shape[0])!\n",
        "  var allFeatures = Tensor<Float>(zeros: [finalCount, 10, 20, 36])\n",
        "  var allLogits = Tensor<Float>(zeros: [finalCount, 10, 20, 8])\n",
        "  var values = Array<Float>()\n",
        "  \n",
        "  // Process each game\n",
        "  var gamesProcessed = 0\n",
        "  \n",
        "  for (startIndex, count) in zip(uniqueGameIds[1], uniqueGameIds[2]) {\n",
        "    let lastIndex = Int(startIndex + count - 1)!\n",
        "    \n",
        "    // Process each move, notice below that index stops before lastIndex\n",
        "    for index in (Int(startIndex)! ..< lastIndex) {\n",
        "      // Features and logits\n",
        "      let (features, logits) = parseOneMoveData(numpyArray[index])\n",
        "      allFeatures[index - gamesProcessed] = features\n",
        "      allLogits[index - gamesProcessed] = logits\n",
        "\n",
        "      // Values\n",
        "      let checkGarbageIndex = min(index + maxAveragingMoves, lastIndex)\n",
        "      let moveCount = checkGarbageIndex - index\n",
        "      let garbageCleared = garbageCleardCounts[checkGarbageIndex] - garbageCleardCounts[index]\n",
        "      values.append(garbageCleared / Float(moveCount))\n",
        "    }\n",
        "    \n",
        "    gamesProcessed += 1\n",
        "  }\n",
        "  \n",
        "  return (features: allFeatures, logits: allLogits, values: Tensor(values))\n",
        "}"
      ],
      "execution_count": 0,
      "outputs": []
    },
    {
      "cell_type": "markdown",
      "metadata": {
        "id": "8ZZKY_3V9WIj",
        "colab_type": "text"
      },
      "source": [
        "# Test Run"
      ]
    },
    {
      "cell_type": "markdown",
      "metadata": {
        "id": "8Ks7I-shQHs5",
        "colab_type": "text"
      },
      "source": [
        "### Field test"
      ]
    },
    {
      "cell_type": "code",
      "metadata": {
        "id": "jxXxnId3npYF",
        "colab_type": "code",
        "cellView": "both",
        "outputId": "f7af78e8-85d7-4b8e-da17-c11a3ecaf5f0",
        "colab": {
          "base_uri": "https://localhost:8080/",
          "height": 139
        }
      },
      "source": [
        "let typical: [Int16] = [\n",
        "  0b01111_11111,\n",
        "  0b01111_11111,\n",
        "  0b01111_11111,\n",
        "  0b01101_11111,\n",
        "  0b00000_01111,\n",
        "  0b00000_00001,\n",
        "]\n",
        "\n",
        "var field = Field(storage: typical, garbageCount: 0)\n",
        "\n",
        "print(field)\n",
        "// draw(field)"
      ],
      "execution_count": 39,
      "outputs": [
        {
          "output_type": "stream",
          "text": [
            "  O                   \r\n",
            "  O O O O             \r\n",
            "  O O O O O O   O O   \r\n",
            "  O O O O O O O O O   \r\n",
            "  O O O O O O O O O   \r\n",
            "  O O O O O O O O O   \r\n"
          ],
          "name": "stdout"
        }
      ]
    },
    {
      "cell_type": "code",
      "metadata": {
        "id": "W8LNy8iE4hv_",
        "colab_type": "code",
        "outputId": "f837e990-08b8-45bb-ee49-04027ed0b6ad",
        "colab": {
          "base_uri": "https://localhost:8080/",
          "height": 139
        }
      },
      "source": [
        "let piece = Piece(type: .L, x: 9, y: 3, orientation: .left)\n",
        "field.canPlace(piece)\n",
        "let (newField, garbageCleared) = field.lockDown(piece)\n",
        "print(newField)\n",
        "print(\"cleared garbage lines:\", garbageCleared)\n"
      ],
      "execution_count": 40,
      "outputs": [
        {
          "output_type": "stream",
          "text": [
            "  O                   \r\n",
            "  O O O O         O O \r\n",
            "  O O O O O O   O O O \r\n",
            "  O O O O O O O O O   \r\n",
            "  O O O O O O O O O   \r\n",
            "cleared garbage lines: 0\r\n"
          ],
          "name": "stdout"
        }
      ]
    },
    {
      "cell_type": "markdown",
      "metadata": {
        "id": "m-roSSXHvEjK",
        "colab_type": "text"
      },
      "source": [
        "### Play a game"
      ]
    },
    {
      "cell_type": "code",
      "metadata": {
        "id": "ohj_iS9UZnOy",
        "colab_type": "code",
        "colab": {}
      },
      "source": [
        "let thinkTime: TimeInterval = 3.0\n",
        "\n",
        "func playOneGame(model: TetrisModel, verbose: Bool = false, recorder: GameRecorder? = nil) {\n",
        "  // Initiate game\n",
        "  let tree = MCTSTree(model: model)\n",
        "  recorder?.setNewGame()\n",
        "  \n",
        "  // Make move repeatedly till game over\n",
        "  playGame: for move in 1... {\n",
        "    \n",
        "    if verbose {\n",
        "      print(\"*** Move \\(move): ***\")\n",
        "      print(\"Play: \\(tree.pieceSequence[0]), hold: \\(tree.root.hold)\")\n",
        "    }\n",
        "  \n",
        "    let startTime = Date()\n",
        "  \n",
        "    while Date().timeIntervalSince(startTime) < thinkTime {\n",
        "      tree.performParallelSearch(maxBatchSize: 32)\n",
        "    }\n",
        "  \n",
        "    let bestChild = tree.root.getMostVisitedChild() ?? tree.root\n",
        "  \n",
        "    // Display results\n",
        "    print(\"Move \\(move), search count: \\(tree.root.childN.sum()), max depth: \\(tree.getMostTraveledPath().count), garbage cleared: \\(bestChild.garbageCleared)\")\n",
        "    if verbose {\n",
        "      tree.printBestMove()\n",
        "      print()\n",
        "    }\n",
        "    \n",
        "    // Record results\n",
        "    recorder?.addPosition(tree: tree)\n",
        "    \n",
        "    // Game finished?\n",
        "    if bestChild.field.garbageCount == 0 {\n",
        "      print(\"Garbage cleared!\")\n",
        "      break playGame\n",
        "    }\n",
        "    \n",
        "    if bestChild.field.height >= 20 {\n",
        "      print(\"Game over...\")\n",
        "      break playGame\n",
        "    }\n",
        "  \n",
        "    // Prepare for the next move\n",
        "    tree.promoteBestChildToRoot()\n",
        "  }\n",
        "  \n",
        "}"
      ],
      "execution_count": 0,
      "outputs": []
    },
    {
      "cell_type": "markdown",
      "metadata": {
        "id": "nhD-08NFb7kx",
        "colab_type": "text"
      },
      "source": [
        "### Play session: Main loop"
      ]
    },
    {
      "cell_type": "code",
      "metadata": {
        "id": "Xxv2AagdcsHR",
        "colab_type": "code",
        "colab": {}
      },
      "source": [
        "// Be careful with re-initializing recorder in notebook, will lose past data\n",
        "// let recorder = GameRecorder()"
      ],
      "execution_count": 0,
      "outputs": []
    },
    {
      "cell_type": "code",
      "metadata": {
        "id": "IFW9HxCSmcIv",
        "colab_type": "code",
        "colab": {}
      },
      "source": [
        "// Yet to have a real, trained model\n",
        "// let model = TetrisModel()"
      ],
      "execution_count": 0,
      "outputs": []
    },
    {
      "cell_type": "code",
      "metadata": {
        "id": "5Y5wtlS48j7G",
        "colab_type": "code",
        "outputId": "f64cecc8-7379-4f76-d304-5f6e818b0f4a",
        "colab": {
          "base_uri": "https://localhost:8080/",
          "height": 2074
        }
      },
      "source": [
        "// Run games\n",
        "let sessionStartTime = Date()\n",
        "let sessionTime: TimeInterval = 2 * 60\n",
        "\n",
        "for game in 1...1 {\n",
        "  \n",
        "  let elapsed = Date().timeIntervalSince(sessionStartTime)\n",
        "  print(\"Session elapsed: \\(elapsed / 60) minutes\")\n",
        "  \n",
        "  if elapsed >= sessionTime {\n",
        "    print(\"Session done.  Bye!\")\n",
        "    break\n",
        "  }\n",
        "\n",
        "//   playOneGame(model: model, recorder: recorder)\n",
        "  playOneGame(model: model, verbose: true)\n",
        "  \n",
        "  print()\n",
        "  \n",
        "}"
      ],
      "execution_count": 46,
      "outputs": [
        {
          "output_type": "stream",
          "text": [
            "Session elapsed: 1.5894571940104166e-08 minutes\r\n",
            "*** Move 1: ***\r\n",
            "Play: T, hold: L\n",
            "Move 1, search count: 383.0, max depth: 13, garbage cleared: 0\n",
            "        X            \n",
            "      X X            \n",
            "        X            \n",
            "  O   O O O O O O O O\n",
            "  O O O O   O O O O O\n",
            "  O O O O O O O   O O\n",
            "  O O O O O O O O O  \n",
            "  O O O O   O O O O O\n",
            "    O O O O O O O O O\n",
            "  O O   O O O O O O O\n",
            "  O O O O O O   O O O\n",
            "  O   O O O O O O O O\n",
            "    O O O O O O O O O\n",
            "\n",
            "*** Move 2: ***\n",
            "Play: O, hold: L\n",
            "Move 2, search count: 498.0, max depth: 15, garbage cleared: 0\n",
            "        O   X X      \n",
            "      O O     X      \n",
            "        O     X      \n",
            "  O   O O O O O O O O\n",
            "  O O O O   O O O O O\n",
            "  O O O O O O O   O O\n",
            "  O O O O O O O O O  \n",
            "  O O O O   O O O O O\n",
            "    O O O O O O O O O\n",
            "  O O   O O O O O O O\n",
            "  O O O O O O   O O O\n",
            "  O   O O O O O O O O\n",
            "    O O O O O O O O O\n",
            "\n",
            "*** Move 3: ***\n",
            "Play: Z, hold: O\n",
            "Move 3, search count: 542.0, max depth: 14, garbage cleared: 0\n",
            "        X            \n",
            "      X X            \n",
            "      X O   O O      \n",
            "      O O     O      \n",
            "        O     O      \n",
            "  O   O O O O O O O O\n",
            "  O O O O   O O O O O\n",
            "  O O O O O O O   O O\n",
            "  O O O O O O O O O  \n",
            "  O O O O   O O O O O\n",
            "    O O O O O O O O O\n",
            "  O O   O O O O O O O\n",
            "  O O O O O O   O O O\n",
            "  O   O O O O O O O O\n",
            "    O O O O O O O O O\n",
            "\n",
            "*** Move 4: ***\n",
            "Play: I, hold: O\n",
            "Move 4, search count: 565.0, max depth: 13, garbage cleared: 0\n",
            "        O            \n",
            "  X   O O            \n",
            "  X   O O   O O      \n",
            "  X   O O     O      \n",
            "  X     O     O      \n",
            "  O   O O O O O O O O\n",
            "  O O O O   O O O O O\n",
            "  O O O O O O O   O O\n",
            "  O O O O O O O O O  \n",
            "  O O O O   O O O O O\n",
            "    O O O O O O O O O\n",
            "  O O   O O O O O O O\n",
            "  O O O O O O   O O O\n",
            "  O   O O O O O O O O\n",
            "    O O O O O O O O O\n",
            "\n",
            "*** Move 5: ***\n",
            "Play: S, hold: O\n",
            "Move 5, search count: 548.0, max depth: 11, garbage cleared: 0\n",
            "      X              \n",
            "      X X            \n",
            "        X            \n",
            "        O            \n",
            "  O   O O            \n",
            "  O   O O   O O      \n",
            "  O   O O     O      \n",
            "  O     O     O      \n",
            "  O   O O O O O O O O\n",
            "  O O O O   O O O O O\n",
            "  O O O O O O O   O O\n",
            "  O O O O O O O O O  \n",
            "  O O O O   O O O O O\n",
            "    O O O O O O O O O\n",
            "  O O   O O O O O O O\n",
            "  O O O O O O   O O O\n",
            "  O   O O O O O O O O\n",
            "    O O O O O O O O O\n",
            "\n",
            "*** Move 6: ***\n",
            "Play: J, hold: O\n",
            "Move 6, search count: 614.0, max depth: 10, garbage cleared: 0\n",
            "          X          \n",
            "          X          \n",
            "      O X X          \n",
            "      O O            \n",
            "        O            \n",
            "        O            \n",
            "  O   O O            \n",
            "  O   O O   O O      \n",
            "  O   O O     O      \n",
            "  O     O     O      \n",
            "  O   O O O O O O O O\n",
            "  O O O O   O O O O O\n",
            "  O O O O O O O   O O\n",
            "  O O O O O O O O O  \n",
            "  O O O O   O O O O O\n",
            "    O O O O O O O O O\n",
            "  O O   O O O O O O O\n",
            "  O O O O O O   O O O\n",
            "  O   O O O O O O O O\n",
            "    O O O O O O O O O\n",
            "\n",
            "Game over...\n",
            "\n"
          ],
          "name": "stdout"
        }
      ]
    },
    {
      "cell_type": "markdown",
      "metadata": {
        "id": "3rYRFQKsvLxb",
        "colab_type": "text"
      },
      "source": [
        "### Explore results"
      ]
    },
    {
      "cell_type": "code",
      "metadata": {
        "id": "PIMCn3iGeY41",
        "colab_type": "code",
        "colab": {}
      },
      "source": [
        "// Recorder: Look at, and save, the data\n",
        "\n",
        "print(recorder.data.count)\n",
        "// recorder.data.map { $0[0..<50] }\n",
        "\n",
        "// recorder.save()"
      ],
      "execution_count": 0,
      "outputs": []
    },
    {
      "cell_type": "code",
      "metadata": {
        "id": "2mYkAptKdGOL",
        "colab_type": "code",
        "colab": {}
      },
      "source": [
        "// // Collect some runtime data for intel\n",
        "\n",
        "// // var data1 = [Double]()\n",
        "// // var data2 = [Double]()\n",
        "// // var data3 = [Double]()\n",
        "\n",
        "// // data1.removeAll(keepingCapacity: true)\n",
        "// // data2.removeAll(keepingCapacity: true)\n",
        "// // data3.removeAll(keepingCapacity: true)\n",
        "\n",
        "// // var data3 = zip(data1, data2).map { $0 + $1 }\n",
        "\n",
        "// plt.hist(data1, bins: 10)\n",
        "// plt.hist(data2, bins: 50)\n",
        "// // plt.hist(data3, bins: 50)\n",
        "\n",
        "// // plt.hist(data1.filter { $0 > 0.05 }, bins: 100)\n",
        "\n",
        "// print(\"data count:\", data1.count)\n",
        "// print(\"sums:\", Tensor(data1).sum(), Tensor(data2).sum(), Tensor(data3).sum())\n",
        "\n",
        "// plt.show()"
      ],
      "execution_count": 0,
      "outputs": []
    },
    {
      "cell_type": "markdown",
      "metadata": {
        "id": "tdk1T6emmksi",
        "colab_type": "text"
      },
      "source": [
        "# Scribbling"
      ]
    },
    {
      "cell_type": "code",
      "metadata": {
        "id": "ghW3YHvTpSgS",
        "colab_type": "code",
        "colab": {}
      },
      "source": [
        "var model = TetrisModel()\n",
        "let optimizer = SGD(for: model)"
      ],
      "execution_count": 0,
      "outputs": []
    },
    {
      "cell_type": "code",
      "metadata": {
        "id": "l9ZGkictrG8Z",
        "colab_type": "code",
        "colab": {}
      },
      "source": [
        "let rawData = np.load(\"GameRecords_2019-05-20_12-02.npy\")"
      ],
      "execution_count": 0,
      "outputs": []
    },
    {
      "cell_type": "code",
      "metadata": {
        "id": "xwKrDc75rVjn",
        "colab_type": "code",
        "colab": {}
      },
      "source": [
        "let (features, logits, values) = parseGameDataForTraining(rawData)"
      ],
      "execution_count": 0,
      "outputs": []
    },
    {
      "cell_type": "code",
      "metadata": {
        "id": "Zv-TfptBfNwY",
        "colab_type": "code",
        "colab": {}
      },
      "source": [
        "let tmo = TetrisModelOutput(policy: softmax(logits), value: values, logits: logits)"
      ],
      "execution_count": 0,
      "outputs": []
    },
    {
      "cell_type": "code",
      "metadata": {
        "id": "RP7hBUrTu5MV",
        "colab_type": "code",
        "colab": {}
      },
      "source": [
        "let output = model(features[..<128])"
      ],
      "execution_count": 0,
      "outputs": []
    },
    {
      "cell_type": "code",
      "metadata": {
        "id": "BrIo0_6oydjV",
        "colab_type": "code",
        "colab": {}
      },
      "source": [
        "let (loss, gradients) = valueWithGradient(at: model) { model -> Tensor<Float> in\n",
        "  // Add mean-square error for value?\n",
        "  // This whole thing looks funny, e.g. closure signature, need further clarification\n",
        "  return softmaxCrossEntropy(logits: output.logits.reshaped(to: [128, -1]), probabilities: logits[..<128].reshaped(to: [128, -1]))\n",
        "}\n"
      ],
      "execution_count": 0,
      "outputs": []
    },
    {
      "cell_type": "code",
      "metadata": {
        "id": "6_zjlS4_0xzR",
        "colab_type": "code",
        "colab": {}
      },
      "source": [
        "print(gradients)"
      ],
      "execution_count": 0,
      "outputs": []
    }
  ]
}