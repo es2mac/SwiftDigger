{
  "nbformat": 4,
  "nbformat_minor": 0,
  "metadata": {
    "colab": {
      "name": "TetrisField.ipynb",
      "version": "0.3.2",
      "provenance": [],
      "collapsed_sections": [],
      "include_colab_link": true
    },
    "kernelspec": {
      "name": "swift",
      "display_name": "Swift"
    }
  },
  "cells": [
    {
      "cell_type": "markdown",
      "metadata": {
        "id": "view-in-github",
        "colab_type": "text"
      },
      "source": [
        "<a href=\"https://colab.research.google.com/github/es2mac/SwiftDigger/blob/master/TetrisField.ipynb\" target=\"_parent\"><img src=\"https://colab.research.google.com/assets/colab-badge.svg\" alt=\"Open In Colab\"/></a>"
      ]
    },
    {
      "cell_type": "markdown",
      "metadata": {
        "id": "SNicOaqA7iz3",
        "colab_type": "text"
      },
      "source": [
        "# Ideas"
      ]
    },
    {
      "cell_type": "markdown",
      "metadata": {
        "id": "UU4L2RHAWSej",
        "colab_type": "text"
      },
      "source": [
        "Next steps:\n",
        "- Dynamically compose field with a limited number of garbage\n",
        "- Use enum to mark selection result from each node (existing node, uninitiated at index, unavailable because children are not setup yet)\n",
        "- Adapt model from MiniGo\n",
        "- Implement finding SRS twist moves\n",
        "\n",
        "MCTS (my implementation, not exactly as commonly described):\n",
        "- Start from root node, select best child until we find one that hasn't been evaluated\n",
        "  - \"Best\" includes priors, and balances exploration & exploitation\n",
        "  - Internally, this node is freshly initiated at this selection step\n",
        "- Prepare this node for evaluation, and set up for possible future visits\n",
        "  - Find all valid children\n",
        "  - Based on the number of valid children, initiate children N, W\n",
        "- Evaluate the node\n",
        "  - Get value of this node, and set priors for its children\n",
        "  - Backpropagate the value\n"
      ]
    },
    {
      "cell_type": "markdown",
      "metadata": {
        "id": "SGk2eZKUmhAK",
        "colab_type": "text"
      },
      "source": [
        "Notes on crafting features:\n",
        "- Simple value ideas (working thought below) didn't work well.  The bot plays too greedy and has no idea what to do if no line is cleared.  It can't see far enough.  In retrospect, this is not surprising, because I've skimped the rollout part of the basic MCTS.  Before moving to reinforcement learning, should try some known methods to see how it goes.\n",
        "- In the end I implemented Thiery and Scherrer's BCTS, might be state-of-the-art?\n",
        "- Dellacherie’s original evaluation: see the Thiery-Scherrer paper\n",
        "- [El-Tetris](http://imake.ninja/el-tetris-an-improvement-on-pierre-dellacheries-algorithm/) [source code](https://github.com/daogan/tetris-ai/blob/master/tetris_ai.py) is also a good source of feature clarification\n"
      ]
    },
    {
      "cell_type": "markdown",
      "metadata": {
        "id": "eGHG2s7AQO2r",
        "colab_type": "text"
      },
      "source": [
        "Working thought:\n",
        "\n",
        "- An NN model needs to be able to handle 0~5 previews when doing MCTS for a real game that has 5 previews.  Cases with more previews seems more important, but cases with less previews are used far more often in that type of search (if time permits).  In fact, if we often get down to 3 previews or fewer (tree depth >2), maybe it's reasonable to shrink the model to only handle fewer previews?  On the other hand, with very few or no preview, there shouldn't be enough information to know with any certainty whether the next few lines could be cleared quickly.  It's very situational.\n",
        "\n",
        "- Value function.  The general idea is \"piece/line ratio.\"  One idea is that only garbage lines matter, don't reward clearing lines made with player pieces.  The other is whether we do \n",
        "  - How many pieces for the next N lines, or\n",
        "  - How many lines for the next N pieces\n",
        "  - Some complicated combo, fixing neither line nor piece count?\n",
        "\n",
        "- Say I use the number of pieces for the next 4 garbage lines.  My value could be linear, or could be 4/n where the max value is 1.  Questions here:\n",
        "  - Does this curve work well, in the context of UCT? (might need to try and see)\n",
        "  - Does N=4 make sense?  4/4 is very possible, and the risk is whether this is too short-sighted.  On the other hand, if I use say N=10, the signal may be too weak because in such long-term, a single placement doesn't affect the final piece count very much.\n",
        "  \n",
        "- For RL's early stage, maybe I could set up a simplified problem, say given N=7 pieces (i.e. play, hold, and 5 previews), try to clear as many lines as possible.  Increase N once it gets off the ground."
      ]
    },
    {
      "cell_type": "markdown",
      "metadata": {
        "id": "BxWTS67DSdmm",
        "colab_type": "text"
      },
      "source": [
        "References:\n",
        "- Look at [this](http://www.moderndescartes.com/essays/deep_dive_mcts/) to think about MCTS tree node efficiency.\n",
        "- [This series of medium posts](https://medium.com/oracledevs/lessons-from-alphazero-part-3-parameter-tweaking-4dceb78ed1e5) seems like a good resource about AlphaZero.\n",
        "- See [MiniGo in Swift](https://github.com/tensorflow/swift-models/tree/master/MiniGo) \n",
        "\n"
      ]
    },
    {
      "cell_type": "markdown",
      "metadata": {
        "id": "_5XgkS6jjdPA",
        "colab_type": "text"
      },
      "source": [
        "# Notebook Setup"
      ]
    },
    {
      "cell_type": "code",
      "metadata": {
        "id": "NO7u2Or2W7LF",
        "colab_type": "code",
        "cellView": "both",
        "colab": {}
      },
      "source": [
        "import Foundation\n",
        "import Python\n",
        "import TensorFlow\n",
        "\n",
        "%include \"EnableIPythonDisplay.swift\"\n",
        "_ = IPythonDisplay.shell.enable_matplotlib(\"inline\")\n",
        "\n",
        "let np = Python.import(\"numpy\")\n",
        "let plt = Python.import(\"matplotlib.pyplot\")\n",
        "\n",
        "// print(Python.version)"
      ],
      "execution_count": 0,
      "outputs": []
    },
    {
      "cell_type": "code",
      "metadata": {
        "id": "cEepYI97i178",
        "colab_type": "code",
        "colab": {}
      },
      "source": [
        "let layer = Conv2D<Float>(filterShape: (2, 2, 2, 2), strides: (1, 1), padding: .same)"
      ],
      "execution_count": 0,
      "outputs": []
    },
    {
      "cell_type": "code",
      "metadata": {
        "id": "VAzGSj8yvObF",
        "colab_type": "code",
        "colab": {}
      },
      "source": [
        ""
      ],
      "execution_count": 0,
      "outputs": []
    },
    {
      "cell_type": "markdown",
      "metadata": {
        "id": "JVVPFtCTkdKq",
        "colab_type": "text"
      },
      "source": [
        "# Tetris Types: Tetromino, Piece, Field"
      ]
    },
    {
      "cell_type": "code",
      "metadata": {
        "id": "imm111Jw_WW9",
        "colab_type": "code",
        "colab": {}
      },
      "source": [
        "/// Just the type of a tetromino.\n",
        "enum Tetromino: Int, CaseIterable {\n",
        "  // The raw values are specified for easy composition in Piece hash\n",
        "  case I = 0\n",
        "  case J = 4\n",
        "  case L = 8\n",
        "  case O = 12\n",
        "  case S = 16\n",
        "  case T = 20\n",
        "  case Z = 24\n",
        "}\n",
        "\n",
        "public func < <T: RawRepresentable>(a: T, b: T) -> Bool where T.RawValue: Comparable {\n",
        "    return a.rawValue < b.rawValue\n",
        "}\n",
        "\n",
        "extension Tetromino: Comparable {}\n",
        "\n",
        "extension Tetromino: CustomDebugStringConvertible {\n",
        "  public var debugDescription: String {\n",
        "    switch self {\n",
        "      case .I: return \"I\"\n",
        "      case .J: return \"J\"\n",
        "      case .L: return \"L\"\n",
        "      case .O: return \"O\"\n",
        "      case .S: return \"S\"\n",
        "      case .T: return \"T\"\n",
        "      case .Z: return \"Z\"\n",
        "    }\n",
        "  }\n",
        "}"
      ],
      "execution_count": 0,
      "outputs": []
    },
    {
      "cell_type": "code",
      "metadata": {
        "id": "_v2sVFjQvW8P",
        "colab_type": "code",
        "colab": {}
      },
      "source": [
        "/// A piece is a tetromino with placement information.  Calling it \"Piece\"\n",
        "/// instead of \"Placement\" to be intentionally ambiguous, to use in different\n",
        "/// contexts where we need to describe more than just the Tetromino type.\n",
        "struct Piece {\n",
        "  enum Orientation: Int, CaseIterable {\n",
        "      case up, right, down, left\n",
        "  }\n",
        "\n",
        "  let type: Tetromino\n",
        "  var x: Int\n",
        "  var y: Int\n",
        "  var orientation: Orientation = .up\n",
        "}\n",
        "\n",
        "extension Piece: Hashable {\n",
        "  var hashValue: Int {\n",
        "    return ((x + y * 10) << 5) | type.rawValue | orientation.rawValue\n",
        "  }\n",
        "}\n",
        "\n",
        "// Piece conforms to CustomDebugStringConvertible, but it needs some constants defined later\n",
        "// extension Piece: CustomDebugStringConvertible {}\n",
        "\n",
        "extension Piece {\n",
        "  /// This index is used as index to construct & access some constants\n",
        "  var typeAndOrientationIndex: Int {\n",
        "    get { return type.rawValue + orientation.rawValue }\n",
        "  }\n",
        "}"
      ],
      "execution_count": 0,
      "outputs": []
    },
    {
      "cell_type": "code",
      "metadata": {
        "id": "o2psKsrHjhy1",
        "colab_type": "code",
        "colab": {}
      },
      "source": [
        "/// The game field is really just an array of rows.\n",
        "/// It can be any number of rows tall.\n",
        "struct Field {\n",
        "  /// Each row is stored as bits in an Int16.\n",
        "  /// By convention, empty top rows should be removed, no empty row.\n",
        "  var storage: [Int16]\n",
        "  var height: Int { return storage.count }\n",
        "  var garbageCount: Int\n",
        "}\n",
        "\n",
        "extension Field {\n",
        "  init() {\n",
        "    self.storage = []\n",
        "    self.garbageCount = 0\n",
        "  }\n",
        "}\n",
        "\n",
        "extension Field: CustomDebugStringConvertible {\n",
        "  public var debugDescription: String {\n",
        "    var lines = storage.map { (n: Int16) -> String in\n",
        "      let binaryString = String(n, radix: 2)\n",
        "      let padding =  String(repeating: \"0\", count: (10 - binaryString.count))\n",
        "      return padding + binaryString + \"  \"\n",
        "    }\n",
        "    if (garbageCount > 0) && (garbageCount <= lines.count) {\n",
        "      lines[garbageCount - 1] = \"==< \" + lines[garbageCount - 1]\n",
        "    }\n",
        "    return String(lines.joined(separator: \"\\n\").reversed())\n",
        "             .replacingOccurrences(of: \"0\", with: \"  \")\n",
        "             .replacingOccurrences(of: \"1\", with: \"O \")\n",
        "  }\n",
        "}"
      ],
      "execution_count": 0,
      "outputs": []
    },
    {
      "cell_type": "markdown",
      "metadata": {
        "id": "8DSL_KcdBWwH",
        "colab_type": "text"
      },
      "source": [
        "# Field Methods"
      ]
    },
    {
      "cell_type": "markdown",
      "metadata": {
        "id": "4_Z1a7gn6U5y",
        "colab_type": "text"
      },
      "source": [
        "### Construct bitmasks of piece for placement check"
      ]
    },
    {
      "cell_type": "code",
      "metadata": {
        "id": "k0M1bu4T_Yg2",
        "colab_type": "code",
        "colab": {}
      },
      "source": [
        "/**\n",
        "\"Unshifted\" means additional x/y shifting needs to happen when using these.\n",
        "\n",
        " Because pieces extend to the left and down of the piece center, these masks\n",
        " uniformally start from 2 blocks left of the center, and starts from the\n",
        " bottom-most row of the piece.  An additional offset is constructed for where\n",
        " that bottom row is with respect to the piece center.\n",
        "\n",
        " In other words, when using these masks to check a piece on the field:\n",
        " 1) Shift by piece's x position, then back 2 bits\n",
        " 2) Shift by piece's y position, minus the bottom row offset\n",
        "\n",
        " Ref: https://harddrop.com/wiki/SRS\n",
        " */\n",
        "func makeUnshiftedPieceBitmasks(type: Tetromino, orientation: Piece.Orientation) -> [Int16] {\n",
        "  switch (type, orientation) {\n",
        "    case (.I, .up)   : return [0b11110]\n",
        "    case (.I, .right): return [0b100, 0b100, 0b100, 0b100]\n",
        "    case (.I, .down) : return [0b1111]\n",
        "    case (.I, .left) : return [0b100, 0b100, 0b100, 0b100]\n",
        "    case (.J, .up)   : return [0b1110, 0b10]\n",
        "    case (.J, .right): return [0b100, 0b100, 0b1100]\n",
        "    case (.J, .down) : return [0b1000, 0b1110]\n",
        "    case (.J, .left) : return [0b110, 0b100, 0b100]\n",
        "    case (.L, .up)   : return [0b1110, 0b1000]\n",
        "    case (.L, .right): return [0b1100, 0b100, 0b100]\n",
        "    case (.L, .down) : return [0b10, 0b1110]\n",
        "    case (.L, .left) : return [0b100, 0b100, 0b110]\n",
        "    case (.O, .up)   : return [0b1100, 0b1100]\n",
        "    case (.O, .right): return [0b1100, 0b1100]\n",
        "    case (.O, .down) : return [0b110, 0b110]\n",
        "    case (.O, .left) : return [0b110, 0b110]\n",
        "    case (.S, .up)   : return [0b110, 0b1100]\n",
        "    case (.S, .right): return [0b1000, 0b1100, 0b100]\n",
        "    case (.S, .down) : return [0b110, 0b1100]\n",
        "    case (.S, .left) : return [0b100, 0b110, 0b10]\n",
        "    case (.T, .up)   : return [0b1110, 0b100]\n",
        "    case (.T, .right): return [0b100, 0b1100, 0b100]\n",
        "    case (.T, .down) : return [0b100, 0b1110]\n",
        "    case (.T, .left) : return [0b100, 0b110, 0b100]\n",
        "    case (.Z, .up)   : return [0b1100, 0b110]\n",
        "    case (.Z, .right): return [0b100, 0b1100, 0b1000]\n",
        "    case (.Z, .down) : return [0b1100, 0b110]\n",
        "    case (.Z, .left) : return [0b10, 0b110, 0b100]\n",
        "  }\n",
        "}"
      ],
      "execution_count": 0,
      "outputs": []
    },
    {
      "cell_type": "code",
      "metadata": {
        "id": "cPFB0a0IFZ2d",
        "colab_type": "code",
        "colab": {}
      },
      "source": [
        "func getBottomRowOffset(type: Tetromino, orientation: Piece.Orientation) -> Int {\n",
        "  switch (type, orientation) {\n",
        "    case (.I, .up)   : return 0\n",
        "    case (.I, .right): return 2\n",
        "    case (.I, .down) : return 0\n",
        "    case (.I, .left) : return 1\n",
        "    case (.J, .up)   : return 0\n",
        "    case (.J, .right): return 1\n",
        "    case (.J, .down) : return 1\n",
        "    case (.J, .left) : return 1\n",
        "    case (.L, .up)   : return 0\n",
        "    case (.L, .right): return 1\n",
        "    case (.L, .down) : return 1\n",
        "    case (.L, .left) : return 1\n",
        "    case (.O, .up)   : return 0\n",
        "    case (.O, .right): return 1\n",
        "    case (.O, .down) : return 1\n",
        "    case (.O, .left) : return 0\n",
        "    case (.S, .up)   : return 0\n",
        "    case (.S, .right): return 1\n",
        "    case (.S, .down) : return 1\n",
        "    case (.S, .left) : return 1\n",
        "    case (.T, .up)   : return 0\n",
        "    case (.T, .right): return 1\n",
        "    case (.T, .down) : return 1\n",
        "    case (.T, .left) : return 1\n",
        "    case (.Z, .up)   : return 0\n",
        "    case (.Z, .right): return 1\n",
        "    case (.Z, .down) : return 1\n",
        "    case (.Z, .left) : return 1\n",
        "  }\n",
        "}"
      ],
      "execution_count": 0,
      "outputs": []
    },
    {
      "cell_type": "markdown",
      "metadata": {
        "id": "ilKDuqueKqYI",
        "colab_type": "text"
      },
      "source": [
        "I'm unsure about the performance of this double enum switching, so I'm composing them into plain arrays with my own indexing scheme.\n",
        "\n",
        "It might be interesting to compare the performance of calling the above functions vs. arrays."
      ]
    },
    {
      "cell_type": "code",
      "metadata": {
        "id": "cjR7oyrcFBu_",
        "colab_type": "code",
        "colab": {}
      },
      "source": [
        "let unshiftedPieceBitmasks: [[Int16]] = { () -> [[Int16]] in\n",
        "  var masks = [[Int16]](repeating: [], count: 7 * 4)\n",
        "  for type in Tetromino.allCases {\n",
        "    for orientation in Piece.Orientation.allCases {\n",
        "      let piece = Piece(type: type, x: 0, y: 0, orientation: orientation)\n",
        "      masks[piece.typeAndOrientationIndex] = makeUnshiftedPieceBitmasks(type: type, orientation: orientation)\n",
        "    }\n",
        "  }\n",
        "  return masks\n",
        "}()\n",
        "\n",
        "let unshiftedWholePieceBitmasks: [Int] = unshiftedPieceBitmasks.map { lineMasks in\n",
        "  lineMasks.reversed().reduce(0, { (wholeMask, lineMask) in\n",
        "    (wholeMask << 10) | Int(lineMask)\n",
        "  })\n",
        "}\n",
        "\n",
        "let bottomRowOffsets: [Int] = { () -> [Int] in\n",
        "  var offsets = [Int](repeating: 0, count: 7 * 4)\n",
        "  for type in Tetromino.allCases {\n",
        "    for orientation in Piece.Orientation.allCases {\n",
        "      let piece = Piece(type: type, x: 0, y: 0, orientation: orientation)\n",
        "      offsets[piece.typeAndOrientationIndex] = getBottomRowOffset(type: type, orientation: orientation)\n",
        "    }\n",
        "  }\n",
        "  return offsets  \n",
        "}()"
      ],
      "execution_count": 0,
      "outputs": []
    },
    {
      "cell_type": "code",
      "metadata": {
        "id": "pnWRKpV9_Yyt",
        "colab_type": "code",
        "colab": {}
      },
      "source": [
        "// Now I can draw ASCII representations of Piece\n",
        "extension Piece: CustomDebugStringConvertible {\n",
        "  public var debugDescription: String {\n",
        "      let masks = unshiftedPieceBitmasks[typeAndOrientationIndex]\n",
        "      var lines = masks.map {\n",
        "        String($0, radix: 2)\n",
        "          .replacingOccurrences(of: \"0\", with: \" \")\n",
        "          .replacingOccurrences(of: \"1\", with: \"X\")\n",
        "      }\n",
        "    \n",
        "      var joinedLines = String(lines.joined(separator: \"\\n\").reversed())\n",
        "      joinedLines += String(repeating: \" \", count: 6 - lines.last!.count)\n",
        "      joinedLines += \"(\\(x), \\(y))\\n\"\n",
        "      return \"\\n\" + joinedLines\n",
        "  }\n",
        "}"
      ],
      "execution_count": 0,
      "outputs": []
    },
    {
      "cell_type": "markdown",
      "metadata": {
        "id": "s25_CuR5P-qT",
        "colab_type": "text"
      },
      "source": [
        "### Constants for simple dropping positions"
      ]
    },
    {
      "cell_type": "code",
      "metadata": {
        "id": "kLu2fExsP-0G",
        "colab_type": "code",
        "colab": {}
      },
      "source": [
        "/// Tetromino's starting placements are x-coordinates + orientations reached by\n",
        "/// 2-step finesse, without obstruction and disregarding y-coordinates.\n",
        "/// Hard-dropping from here becomes a \"simple placement,\" below.\n",
        "\n",
        "typealias StartingPlacement = (x: Int, orientation: Piece.Orientation)\n",
        "\n",
        "let placementsO: [StartingPlacement] =\n",
        "  [(x: 0, orientation: .up),\n",
        "   (x: 1, orientation: .up),\n",
        "   (x: 2, orientation: .up),\n",
        "   (x: 3, orientation: .up),\n",
        "   (x: 4, orientation: .up),\n",
        "   (x: 5, orientation: .up),\n",
        "   (x: 6, orientation: .up),\n",
        "   (x: 7, orientation: .up),\n",
        "   (x: 8, orientation: .up)]\n",
        "\n",
        "let placementsI: [StartingPlacement] =\n",
        "  [(x: 1, orientation: .up),\n",
        "   (x: 2, orientation: .up),\n",
        "   (x: 3, orientation: .up),\n",
        "   (x: 4, orientation: .up),\n",
        "   (x: 5, orientation: .up),\n",
        "   (x: 6, orientation: .up),\n",
        "   (x: 7, orientation: .up),\n",
        "\n",
        "   (x: 0, orientation: .left),\n",
        "   (x: 1, orientation: .left),\n",
        "   (x: 2, orientation: .right),\n",
        "   (x: 3, orientation: .left),\n",
        "   (x: 4, orientation: .left),\n",
        "   (x: 5, orientation: .right),\n",
        "   (x: 6, orientation: .right),\n",
        "   (x: 7, orientation: .left),\n",
        "   (x: 8, orientation: .right),\n",
        "   (x: 9, orientation: .right)]\n",
        "\n",
        "let placementsSZ: [StartingPlacement] =\n",
        "  [(x: 1, orientation: .up),\n",
        "   (x: 2, orientation: .up),\n",
        "   (x: 3, orientation: .up),\n",
        "   (x: 4, orientation: .up),\n",
        "   (x: 5, orientation: .up),\n",
        "   (x: 6, orientation: .up),\n",
        "   (x: 7, orientation: .up),\n",
        "   (x: 8, orientation: .up),\n",
        "\n",
        "   (x: 1, orientation: .left),\n",
        "   (x: 1, orientation: .right),\n",
        "   (x: 3, orientation: .left),\n",
        "   (x: 4, orientation: .left),\n",
        "   (x: 4, orientation: .right),\n",
        "   (x: 5, orientation: .right),\n",
        "   (x: 6, orientation: .right),\n",
        "   (x: 8, orientation: .left),\n",
        "   (x: 8, orientation: .right)]\n",
        "\n",
        "let placementsJLT: [StartingPlacement] =\n",
        "  [(x: 1, orientation: .up),\n",
        "   (x: 2, orientation: .up),\n",
        "   (x: 3, orientation: .up),\n",
        "   (x: 4, orientation: .up),\n",
        "   (x: 5, orientation: .up),\n",
        "   (x: 6, orientation: .up),\n",
        "   (x: 7, orientation: .up),\n",
        "   (x: 8, orientation: .up),\n",
        "\n",
        "   (x: 0, orientation: .right),\n",
        "   (x: 1, orientation: .right),\n",
        "   (x: 2, orientation: .right),\n",
        "   (x: 3, orientation: .right),\n",
        "   (x: 4, orientation: .right),\n",
        "   (x: 5, orientation: .right),\n",
        "   (x: 6, orientation: .right),\n",
        "   (x: 7, orientation: .right),\n",
        "   (x: 8, orientation: .right),\n",
        "\n",
        "   (x: 1, orientation: .down),\n",
        "   (x: 2, orientation: .down),\n",
        "   (x: 3, orientation: .down),\n",
        "   (x: 4, orientation: .down),\n",
        "   (x: 5, orientation: .down),\n",
        "   (x: 6, orientation: .down),\n",
        "   (x: 7, orientation: .down),\n",
        "   (x: 8, orientation: .down),\n",
        "\n",
        "   (x: 1, orientation: .left),\n",
        "   (x: 2, orientation: .left),\n",
        "   (x: 3, orientation: .left),\n",
        "   (x: 4, orientation: .left),\n",
        "   (x: 5, orientation: .left),\n",
        "   (x: 6, orientation: .left),\n",
        "   (x: 7, orientation: .left),\n",
        "   (x: 8, orientation: .left),\n",
        "   (x: 9, orientation: .left)]\n",
        "\n",
        "func getStartingPlacements(type: Tetromino) -> [StartingPlacement] {\n",
        "   switch type {\n",
        "     case .J, .L, .T: return placementsJLT\n",
        "     case .S, .Z: return placementsSZ\n",
        "     case .O: return placementsO\n",
        "     case .I: return placementsI\n",
        "   }\n",
        "}"
      ],
      "execution_count": 0,
      "outputs": []
    },
    {
      "cell_type": "markdown",
      "metadata": {
        "id": "SSvg16wi1Xww",
        "colab_type": "text"
      },
      "source": [
        "### Check if a piece can be placed on the field"
      ]
    },
    {
      "cell_type": "code",
      "metadata": {
        "id": "J-dLaoC808r1",
        "colab_type": "code",
        "colab": {}
      },
      "source": [
        "extension Field {\n",
        "\n",
        "  func canPlace(_ piece: Piece) -> Bool {\n",
        "\n",
        "    // Only need to check for obstruction in rows that exist\n",
        "    let index = piece.typeAndOrientationIndex\n",
        "    let bottomRow = piece.y - bottomRowOffsets[index]\n",
        "    guard bottomRow < storage.count else { return true }\n",
        "\n",
        "    let pieceMasks = unshiftedPieceBitmasks[index]\n",
        "    let numberOfRowsToCheck = min(pieceMasks.count, storage.count - bottomRow)\n",
        "    \n",
        "    for i in 0 ..< numberOfRowsToCheck {\n",
        "      let row = storage[bottomRow + i]\n",
        "      if row & (pieceMasks[i] << (piece.x - 2)) != 0 { return false }\n",
        "    }\n",
        "    \n",
        "    return true\n",
        "  }\n",
        "\n",
        "}"
      ],
      "execution_count": 0,
      "outputs": []
    },
    {
      "cell_type": "markdown",
      "metadata": {
        "id": "7r8wLPQH6d7p",
        "colab_type": "text"
      },
      "source": [
        "### Find all possible simple (hard-dropped from top) placements of tetrominos"
      ]
    },
    {
      "cell_type": "code",
      "metadata": {
        "id": "Je_ol2e86cAz",
        "colab_type": "code",
        "colab": {}
      },
      "source": [
        "extension Field {\n",
        "\n",
        "  /// Combine as many lines as an Int would hold, for faster piece checks\n",
        "  /// Also: shift by 2 to work with piece masks\n",
        "  var multiLineMasks: [Int] {\n",
        "    get {\n",
        "      var masks = storage.map(Int.init)\n",
        "      for i in (1 ..< masks.count).reversed() {\n",
        "        masks[i - 1] |= (masks[i] << 10)\n",
        "      }\n",
        "      return masks\n",
        "    }\n",
        "  }\n",
        "\n",
        "  /// Simple placements are those reached by shifting & rotating first\n",
        "  /// at the top of the field, then dropped straight down.\n",
        "  /// That is, no soft-drop then shift or twist.\n",
        "  func findAllSimplePlacements(for types: [Tetromino]) -> [Piece] {\n",
        "    \n",
        "    let lineMasks = multiLineMasks\n",
        "    \n",
        "    var pieces: [Piece] = types.flatMap { type in\n",
        "      getStartingPlacements(type: type).map {\n",
        "        Piece(type: type, x: $0.x, y: 0, orientation: $0.orientation)\n",
        "      }\n",
        "    }    \n",
        "    for i in 0 ..< pieces.count {\n",
        "      let index = pieces[i].typeAndOrientationIndex\n",
        "      let mask = unshiftedWholePieceBitmasks[index] << (pieces[i].x - 2)\n",
        "      let bottomOffset = bottomRowOffsets[index]      \n",
        "      var bottomRow = storage.count      \n",
        "      while bottomRow > 0, (lineMasks[bottomRow-1] & mask) == 0 {\n",
        "        bottomRow -= 1\n",
        "      }\n",
        "      pieces[i].y = bottomRow + bottomOffset\n",
        "    }\n",
        "    return pieces\n",
        "  }\n",
        "}"
      ],
      "execution_count": 0,
      "outputs": []
    },
    {
      "cell_type": "markdown",
      "metadata": {
        "id": "bBoZXJEBNvM-",
        "colab_type": "text"
      },
      "source": [
        "### Place (lock down) a piece"
      ]
    },
    {
      "cell_type": "code",
      "metadata": {
        "id": "prZbzl0UNx7Z",
        "colab_type": "code",
        "colab": {}
      },
      "source": [
        "extension Field {\n",
        "  /// Returns a copy of the field with a piece placed in, and lines cleared.\n",
        "  /// \"Paste\" the piece right onto the field, does not check if it's legal.\n",
        "  /// However, it is assumed that e.g. if the piece spans rows 7~9, then\n",
        "  /// the field must already have at least 6 rows.  This would be true if\n",
        "  /// the piece locked legally.\n",
        "  func lockDown(_ piece: Piece) -> (newField: Field, garbageCleared: Int) {\n",
        "    \n",
        "    let index = piece.typeAndOrientationIndex\n",
        "    let pieceMasks = unshiftedPieceBitmasks[index]\n",
        "    let bottomRow = piece.y - bottomRowOffsets[index]\n",
        "\n",
        "    var newStorage = storage\n",
        "\n",
        "    // Append or OR in the mask\n",
        "    for (i, var mask) in pieceMasks.enumerated() {\n",
        "      mask <<= (piece.x - 2)\n",
        "      let row = bottomRow + i\n",
        "      if row >= newStorage.count {\n",
        "        newStorage.append(mask)\n",
        "      } else {\n",
        "        newStorage[row] |= mask\n",
        "\t    }\n",
        "    }\n",
        "    \n",
        "    // Remove filled rows\n",
        "    var garbageCleared = 0\n",
        "    var newGarbageCount = garbageCount\n",
        "    var checkRow = bottomRow\n",
        "    for _ in 0 ..< pieceMasks.count {\n",
        "      if newStorage[checkRow] == 0b11111_11111 {\n",
        "        newStorage.remove(at: checkRow)\n",
        "        if (checkRow < newGarbageCount) {\n",
        "          garbageCleared += 1\n",
        "          newGarbageCount -= 1\n",
        "        }\n",
        "      } else {\n",
        "        checkRow += 1\n",
        "      }\n",
        "    }\n",
        "\n",
        "    return (newField: Field(storage: newStorage, garbageCount: newGarbageCount),\n",
        "            garbageCleared: garbageCleared)\n",
        "  }\n",
        "}\n",
        "  "
      ],
      "execution_count": 0,
      "outputs": []
    },
    {
      "cell_type": "markdown",
      "metadata": {
        "id": "eNTBMMOIgIhf",
        "colab_type": "text"
      },
      "source": [
        "# Game Methods"
      ]
    },
    {
      "cell_type": "markdown",
      "metadata": {
        "id": "TkLtr9CrkPxf",
        "colab_type": "text"
      },
      "source": [
        "### Generators"
      ]
    },
    {
      "cell_type": "code",
      "metadata": {
        "id": "VPCYe7Lmida3",
        "colab_type": "code",
        "colab": {}
      },
      "source": [
        "class PieceGenerator {\n",
        "  private var storage: [Tetromino] = []\n",
        "  \n",
        "  var offset = 0\n",
        "\n",
        "  init() {}\n",
        "  \n",
        "  subscript(index: Int) -> Tetromino {\n",
        "    get {\n",
        "      let internalIndex = index + offset\n",
        "      while internalIndex >= storage.count {\n",
        "        storage.append(contentsOf: Tetromino.allCases.shuffled())\n",
        "      }\n",
        "      return storage[internalIndex]\n",
        "    }    \n",
        "  }\n",
        "}\n",
        "\n",
        "class GarbageGenerator {\n",
        "  private var holePositions: [Int] = [Int.random(in: 0..<10)]\n",
        "  \n",
        "  var offset = 0\n",
        "\n",
        "  init() {}\n",
        "  \n",
        "  subscript(index: Int) -> Int16 {\n",
        "    get {\n",
        "      let internalIndex = index + offset\n",
        "      while internalIndex >= holePositions.count {\n",
        "        let lastHolePosition = holePositions.last!\n",
        "        holePositions.append((lastHolePosition + Int.random(in: 1..<10)) % 10)\n",
        "      }\n",
        "      return 0b11111_11111 ^ (1 << holePositions[internalIndex])\n",
        "    }    \n",
        "  }\n",
        "}"
      ],
      "execution_count": 0,
      "outputs": []
    },
    {
      "cell_type": "markdown",
      "metadata": {
        "id": "4nrqZzP4gbP9",
        "colab_type": "text"
      },
      "source": [
        "# MCTS"
      ]
    },
    {
      "cell_type": "markdown",
      "metadata": {
        "id": "YljrqtnYUo_g",
        "colab_type": "text"
      },
      "source": [
        "### Node"
      ]
    },
    {
      "cell_type": "code",
      "metadata": {
        "id": "rVxsDe3nge0D",
        "colab_type": "code",
        "colab": {}
      },
      "source": [
        "class MCTSNode {\n",
        "  // Game state\n",
        "  let field: Field\n",
        "  let hold: Tetromino\n",
        "  let garbageCleared: Int\n",
        "  \n",
        "  // Tree structure: parent\n",
        "  private(set) weak var parent: MCTSNode?\n",
        "  let indexInParent: Int\n",
        "\n",
        "  // Children\n",
        "  var legalMoves = [Piece]()\n",
        "  var children = [MCTSNode?]()\n",
        "  var moveIndices = [Piece : Int]()\n",
        "\n",
        "  // Evaluation\n",
        "  var priors = Tensor<Double>.zero\n",
        "  var childW = Tensor<Double>.zero\n",
        "  var childN = Tensor<Double>.zero\n",
        "  \n",
        "  // Initializer\n",
        "  init(field: Field,\n",
        "       hold: Tetromino,\n",
        "       garbageCleared: Int,\n",
        "       parent: MCTSNode? = nil,\n",
        "       indexInParent: Int = 0) {\n",
        "    self.field = field\n",
        "    self.hold = hold\n",
        "    self.garbageCleared = garbageCleared\n",
        "    self.parent = parent\n",
        "    self.indexInParent = indexInParent\n",
        "  }\n",
        "}\n",
        "\n",
        "extension MCTSNode: CustomDebugStringConvertible {\n",
        "  public var debugDescription: String {\n",
        "    return \"MCTSNode(hold: \\(hold), cleared: \\(garbageCleared), children: \\(children.count))\"\n",
        "  }\n",
        "}"
      ],
      "execution_count": 0,
      "outputs": []
    },
    {
      "cell_type": "markdown",
      "metadata": {
        "id": "_shkPQFuU2d0",
        "colab_type": "text"
      },
      "source": [
        "### Node methods"
      ]
    },
    {
      "cell_type": "code",
      "metadata": {
        "id": "v5U4yEAsUnYr",
        "colab_type": "code",
        "colab": {}
      },
      "source": [
        "extension MCTSNode {\n",
        "  \n",
        "  var move: Piece {\n",
        "    guard let parent = parent else {\n",
        "      fatalError(\"Can't get move if don't have parent\")\n",
        "    }\n",
        "    return parent.legalMoves[indexInParent]\n",
        "  }\n",
        "  \n",
        "  var hasChildren: Bool {\n",
        "    return !children.isEmpty\n",
        "  }\n",
        "  \n",
        "  func setupChildren(playPiece: Tetromino) {\n",
        "    assert(!hasChildren, \"setupChildren should only need to be done once\")\n",
        "    \n",
        "    let availableTypes = (playPiece == hold) ? [hold] : [playPiece, hold]\n",
        "    legalMoves = field.findAllSimplePlacements(for: availableTypes)\n",
        "\n",
        "    let count = legalMoves.count\n",
        "    moveIndices = Dictionary(uniqueKeysWithValues: zip(legalMoves, 0..<count))\n",
        "\n",
        "    children = Array<MCTSNode?>.init(repeating: nil, count: count)\n",
        "    priors = Tensor(randomUniform: [count]) * 0.1 + 0.3\n",
        "    childW = Tensor(zeros: [count])\n",
        "    childN = Tensor(zeros: [count])\n",
        "  }\n",
        "  \n",
        "  func getMostVisitedChild() -> MCTSNode? {\n",
        "    guard hasChildren else { return nil }\n",
        "\n",
        "    let index = Int(childN.argmax().scalarized())\n",
        "    \n",
        "    // This could still return nil, if no child has been visited\n",
        "    return children[index]\n",
        "  }\n",
        "  \n",
        "  func getHighestValuedChild() -> MCTSNode {\n",
        "    assert(hasChildren, \"Can't get highest valued child before having children\")\n",
        "    \n",
        "    let bestIndex = Int(childrenActionScores.argmax().scalarized())\n",
        "\n",
        "    return children[bestIndex] ?? initiateChildNode(bestIndex)\n",
        "  }\n",
        "  \n",
        "  func initiateChildNode(_ index: Int) -> MCTSNode {\n",
        "    let placedPiece = legalMoves[index]\n",
        "    let (nextField, newGarbageCleared) = field.lockDown(placedPiece)\n",
        "    \n",
        "    // Cheat a little. The two available pieces are hold and play.  I have the\n",
        "    // hold piece and not the play piece, but can extract them both from the\n",
        "    // legal moves because they were generated with the two pieces.\n",
        "    // The new hold piece is whichever not placed.\n",
        "    let tetrominos = (legalMoves.first!.type, legalMoves.last!.type)\n",
        "    let newHold = (placedPiece.type == tetrominos.0) ? tetrominos.1 : tetrominos.0\n",
        "    \n",
        "    let childNode = MCTSNode(field: nextField,\n",
        "                             hold: newHold,\n",
        "                             garbageCleared: garbageCleared + newGarbageCleared,\n",
        "                             parent: self, \n",
        "                             indexInParent: index)\n",
        "    children[index] = childNode\n",
        "    \n",
        "    return childNode\n",
        "  }\n",
        "  \n",
        "  var childrenActionScores: Tensor<Double> {\n",
        "    let Q = meanActionValue\n",
        "    let U = puctValue\n",
        "    return Q + U\n",
        "  }\n",
        "  \n",
        "  var meanActionValue: Tensor<Double> {\n",
        "    return childW / (1 + childN)\n",
        "  }\n",
        "  \n",
        "  var puctValue: Tensor<Double> {\n",
        "    let puctConstant = 2.0 // MiniGo uses 2.0\n",
        "    \n",
        "    // C: Exploration Rate, grows pretty slowly over time\n",
        "    let cBase = 19652.0\n",
        "    let cInitial = 1.25\n",
        "\n",
        "    let totalN = childN.sum().scalarized()\n",
        "    let adjustedTotalN = max(1, totalN - 1)\n",
        "\n",
        "    let C = cInitial + log((1 + totalN + cBase) / cBase)\n",
        "\n",
        "    return puctConstant * C * priors * sqrt(adjustedTotalN) / (1 + childN)\n",
        "  }\n",
        "\n",
        "}"
      ],
      "execution_count": 0,
      "outputs": []
    },
    {
      "cell_type": "markdown",
      "metadata": {
        "id": "zQ9YgRlah6Tu",
        "colab_type": "text"
      },
      "source": [
        "### Tree"
      ]
    },
    {
      "cell_type": "code",
      "metadata": {
        "id": "-6-O-97Ph8HC",
        "colab_type": "code",
        "colab": {}
      },
      "source": [
        "class MCTSTree {\n",
        "  let pieceSequence: PieceGenerator\n",
        "  let garbages: GarbageGenerator\n",
        "  \n",
        "  var root: MCTSNode\n",
        "  \n",
        "  var evaluate: (_ node: MCTSNode, _ depth: Int) -> (value: Double, priors: Tensor<Double>) = { (_, _) in\n",
        "    return (value: 0, priors: .zero)\n",
        "  }\n",
        "  \n",
        "  init(field: Field,\n",
        "       pieceSequence: PieceGenerator,\n",
        "       garbages: GarbageGenerator) {\n",
        "    self.pieceSequence = pieceSequence\n",
        "    self.garbages = garbages\n",
        "    self.root = MCTSNode(field: field,\n",
        "                         hold: pieceSequence[0],\n",
        "                         garbageCleared: 0)\n",
        "  }  \n",
        "}\n",
        "\n",
        "extension MCTSTree {\n",
        "  convenience init() {\n",
        "    \n",
        "    let pieceSequence = PieceGenerator()\n",
        "    let garbages = GarbageGenerator()\n",
        "    let field = Field.init(storage: (0 ..< 10).map { garbages[$0] },\n",
        "                           garbageCount: 10)\n",
        "    \n",
        "    self.init(field: field,\n",
        "              pieceSequence: pieceSequence,\n",
        "              garbages: garbages)\n",
        "  }\n",
        "}"
      ],
      "execution_count": 0,
      "outputs": []
    },
    {
      "cell_type": "markdown",
      "metadata": {
        "id": "XypOkKO_p0sx",
        "colab_type": "text"
      },
      "source": [
        "### Tree climbing, er, traversal"
      ]
    },
    {
      "cell_type": "code",
      "metadata": {
        "id": "HJCbooMzp4M8",
        "colab_type": "code",
        "colab": {}
      },
      "source": [
        "extension MCTSTree {\n",
        "  \n",
        "  func selectBestUnevaluatedNode() -> (node: MCTSNode, depth: Int) {\n",
        "    /* Here, \"Having children\" and \"Have evaluated\" is treated as same in\n",
        "       non-parallel operation.  I assume that in each loop, the best \"new\"\n",
        "       node will be found, and have its children set up, then node is\n",
        "       evaluated and updated.\n",
        "       This is not optimal, as the children setup is not used until the next\n",
        "       selection, but is simpler.  Also, when incorporating the AlphaZero\n",
        "       RL method, value & policy networks are combined so it's similar to this.\n",
        "    */\n",
        "    \n",
        "    var node = root\n",
        "    var depth = 0\n",
        "    \n",
        "    while node.hasChildren {\n",
        "      node = node.getHighestValuedChild()\n",
        "      depth += 1\n",
        "    }\n",
        "    return (node: node, depth: depth)\n",
        "  }\n",
        "  \n",
        "  func backPropagate(from node: MCTSNode, value: Double) {\n",
        "    var childNode = node\n",
        "    while let parentNode = childNode.parent {\n",
        "      parentNode.childW[childNode.indexInParent] += value\n",
        "      parentNode.childN[childNode.indexInParent] += 1\n",
        "      childNode = parentNode\n",
        "    }\n",
        "  }\n",
        "  \n",
        "  func getMostTraveledPath() -> [MCTSNode] {\n",
        "    var path = [root]\n",
        "    var node = root\n",
        "    while let child = node.getMostVisitedChild() {\n",
        "      path.append(child)\n",
        "      node = child\n",
        "    }\n",
        "    return path\n",
        "  }\n",
        "  \n",
        "  func getReversePath(leaf: MCTSNode) -> [MCTSNode] {\n",
        "    var path = [leaf]\n",
        "    var node = leaf\n",
        "    while let parent = node.parent {\n",
        "      path.insert(parent, at: 0)\n",
        "      node = parent\n",
        "    }\n",
        "    return path\n",
        "  }\n",
        "  \n",
        "}\n"
      ],
      "execution_count": 0,
      "outputs": []
    },
    {
      "cell_type": "markdown",
      "metadata": {
        "id": "VoONl2Ukz1uW",
        "colab_type": "text"
      },
      "source": [
        "### Evaluate with BCTS"
      ]
    },
    {
      "cell_type": "code",
      "metadata": {
        "id": "LPHB7LHCqJa9",
        "colab_type": "code",
        "colab": {}
      },
      "source": [
        "/// BCTS value, according to the Building Controllers for Tetris paper\n",
        "/// Thiery & Scherrer\n",
        "/// This value seems basically always in the negatives, from minus a few hundred\n",
        "/// to >3000 in utterly terrible fields\n",
        "func calculateBctsValue(_ node: MCTSNode) -> Double {\n",
        "  guard let parent = node.parent else { return 0 }\n",
        "\n",
        "  let field = node.field\n",
        "  let piece = parent.legalMoves[node.indexInParent]\n",
        "  let lines = field.storage\n",
        "  \n",
        "  // Landing height\n",
        "  let landingHeight = Double(piece.y - field.garbageCount)\n",
        "\n",
        "  // Eroded piece cells\n",
        "  // (similar to locking down a piece on field)\n",
        "  let parentField = parent.field\n",
        "  let pieceIndex = piece.typeAndOrientationIndex\n",
        "  let pieceMasks = unshiftedPieceBitmasks[pieceIndex]\n",
        "  let bottomRow = piece.y - bottomRowOffsets[pieceIndex]\n",
        "\n",
        "  var linesCleared = 0\n",
        "  var cellsEroded = 0\n",
        "  for (i, var mask) in pieceMasks.enumerated() {\n",
        "    mask <<= (piece.x - 2)\n",
        "    let row = bottomRow + i\n",
        "    if row < parentField.height {\n",
        "      let line = parentField.storage[row]\n",
        "      if line | mask == 0b11111_11111 {\n",
        "        linesCleared += 1\n",
        "        cellsEroded += (10 - line.nonzeroBitCount)\n",
        "      }\n",
        "    }\n",
        "  }\n",
        "\n",
        "  let erodedPieceCells = Double(linesCleared * cellsEroded)\n",
        "\n",
        "  // Row transitions\n",
        "  let rowTransitions: Double = lines\n",
        "                                 .reduce(0.0) {\n",
        "                                   let left = ($1 << 1) + 1\n",
        "                                   let right = $1 + 1024\n",
        "                                   return $0 + Double((left ^ right).nonzeroBitCount)\n",
        "                                 }\n",
        "  \n",
        "  // Column transitions\n",
        "  let columnTransitions: Double = zip(lines, lines.dropFirst() + [0])\n",
        "                                    .reduce(0.0) {\n",
        "                                      $0 + Double(($1.0 ^ $1.1).nonzeroBitCount)\n",
        "                                    }\n",
        "\n",
        "  // Indices of top filled cell of each column, -1 if empty (not used in score)\n",
        "  let columnTops: [Int] = (0 ..< 10).map { (index) -> Int in\n",
        "    let mask: Int16 = 1 << index\n",
        "    return lines.lastIndex { $0 & mask != 0 } ?? -1\n",
        "  }\n",
        "  \n",
        "  // Holes\n",
        "  var holeMask: Int16 = 0\n",
        "  var holeCount = 0\n",
        "  var rowsWithHolesCount = 0\n",
        "  var rowsWithHolesMask: Int16 = 0\n",
        "  for line in lines.reversed() {\n",
        "    let maskedLine = holeMask & ~line\n",
        "    holeMask |= line\n",
        "    if maskedLine != 0 {\n",
        "      holeCount += maskedLine.nonzeroBitCount\n",
        "      rowsWithHolesCount += 1\n",
        "      rowsWithHolesMask |= maskedLine\n",
        "    }\n",
        "  }\n",
        "\n",
        "  let holes = Double(holeCount)\n",
        "\n",
        "  // Cumulative wells\n",
        "  // Cheat a little and assume the first found well entrance \"X.X\" extends\n",
        "  // all the way to filled top, skip further checking\n",
        "  let walledLines = lines.map { ($0 << 1) | 0b1_00000_00000_1 }\n",
        "  let columnWellSums: [Int] = (0 ..< 10).map { (column) -> Int in\n",
        "    // Calculation first \"AND\" left side of the column, then shift it to \"AND\"\n",
        "    // right side of column.  Watch out that walledLines is shifted by 1\n",
        "    let columnTopIndex = columnTops[column]\n",
        "    let mask: Int16 = 1 << Int16(column)\n",
        "\n",
        "    var wellSum = 0\n",
        "    var index = walledLines.count - 1\n",
        "    while index > columnTopIndex {\n",
        "      let line = walledLines[index]\n",
        "      if ((line & mask) << 2) & line != 0 {\n",
        "        let wellHeight = index - columnTopIndex\n",
        "        wellSum = wellHeight * (wellHeight + 1) / 2\n",
        "        break\n",
        "      }\n",
        "      index -= 1\n",
        "    }\n",
        "    return wellSum\n",
        "  }\n",
        "\n",
        "  let cumulativeWells = Double(columnWellSums.reduce(0, +))\n",
        "\n",
        "  // Hole depth\n",
        "  let holeDepths: [Int] = (0 ..< 10).map { (column) -> Int in\n",
        "    let mask: Int16 = 1 << Int16(column)\n",
        "    if mask & rowsWithHolesMask == 0 {\n",
        "      return 0\n",
        "    }\n",
        "    // Find the last filled cell from the top filled cell, then down by 1\n",
        "    let columnTopIndex = columnTops[column]\n",
        "    let topHoleIndex = lines[...columnTopIndex].lastIndex { $0 & mask == 0 }!\n",
        "    return columnTopIndex - topHoleIndex\n",
        "  }\n",
        "\n",
        "  let holeDepth = Double(holeDepths.reduce(0, +))\n",
        "  \n",
        "  // Rows with holes\n",
        "  let rowsWithHoles = Double(rowsWithHolesCount)\n",
        "\n",
        "  // These are ordered as in the Thiery & Scherrer paper, and the first 6 are\n",
        "  // used by Dellacherie\n",
        "  return (-12.63 * landingHeight) +\n",
        "         (  6.60 * erodedPieceCells) +\n",
        "         ( -9.22 * rowTransitions) +\n",
        "         (-19.77 * columnTransitions) +\n",
        "         (-13.08 * holes) +\n",
        "         (-10.49 * cumulativeWells) +\n",
        "         ( -1.61 * holeDepth) +\n",
        "         (-24.04 * rowsWithHoles)\n",
        "}\n",
        "  \n"
      ],
      "execution_count": 0,
      "outputs": []
    },
    {
      "cell_type": "code",
      "metadata": {
        "id": "ZwTPUyUMfU0V",
        "colab_type": "code",
        "colab": {}
      },
      "source": [
        "// Simple evaluation to make things kinda work, before implementing RL\n",
        "func bctsEvaluate(_ node: MCTSNode, depth: Int) -> (value: Double, priors: Tensor<Double>) {\n",
        "  \n",
        "  var value: Double\n",
        "  \n",
        "  if depth == 0 {\n",
        "    value = 1\n",
        "  } else {\n",
        "    value = Double(node.garbageCleared) / Double(depth + 10)\n",
        "  }\n",
        "  \n",
        "  // Try: adding BCTS\n",
        "  let bcts = 3.5 + calculateBctsValue(node) / 300\n",
        "  \n",
        "  if bcts > 0 {\n",
        "    value = bcts * (1 + value)\n",
        "  } else {\n",
        "    value = bcts\n",
        "  }\n",
        "  \n",
        "  // Try: \"Winning\" is a special case\n",
        "  if node.field.garbageCount == 0 {\n",
        "    value += 2\n",
        "    \n",
        "//     if (!hasSeenTheEnd) {\n",
        "//       hasSeenTheEnd = true\n",
        "//       print(\"I have seen the end.\")\n",
        "//     }\n",
        "  }\n",
        "  \n",
        "//      data1.append(value)\n",
        "//      data2.append(bcts)\n",
        "  \n",
        "\n",
        "  // Priors: Placements that clears a garbage line is given preference\n",
        "  let childrenGarbageCleared: [Double] = node.legalMoves.map {\n",
        "    return Double(node.field.lockDown($0).garbageCleared)\n",
        "  }\n",
        "  \n",
        "  var priors = Tensor(childrenGarbageCleared) * 0.01\n",
        "  \n",
        "  // Try: Add some noise\n",
        "  let noise = Tensor<Double>(randomUniform: priors.shape) * 0.02\n",
        "  priors += noise\n",
        "  \n",
        "  // Try: Add a uniform prior\n",
        "  priors += 0.2\n",
        "  \n",
        "  // Try: Just don't give a prior.  Make it a flat value.\n",
        "//   priors = priors * 0 + 0.2\n",
        "    \n",
        "  return (value: value, priors: priors)\n",
        "}\n"
      ],
      "execution_count": 0,
      "outputs": []
    },
    {
      "cell_type": "markdown",
      "metadata": {
        "id": "Nv_Xnse-25ty",
        "colab_type": "text"
      },
      "source": [
        "### Tree search sequence"
      ]
    },
    {
      "cell_type": "code",
      "metadata": {
        "id": "WJ2Q9OsR2-Fd",
        "colab_type": "code",
        "colab": {}
      },
      "source": [
        "extension MCTSTree {\n",
        "  \n",
        "  func performSearch(times: Int = 10000) {\n",
        "    for iteration in 1 ... times {\n",
        "      \n",
        "      if iteration % 1000 == 0 {\n",
        "        print(\"Iteration \\(iteration)\")\n",
        "      }\n",
        "      \n",
        "      // Selection & expansion\n",
        "      let (node, depth) = selectBestUnevaluatedNode()\n",
        "    \n",
        "      // Evaluation & backpropagation\n",
        "      let playPiece = pieceSequence[depth + 1]\n",
        "      node.setupChildren(playPiece: playPiece)\n",
        "    \n",
        "      let (value, priors) = evaluate(node, depth)\n",
        "      node.priors = priors\n",
        "      backPropagate(from: node, value: value)\n",
        "    }\n",
        "  }\n",
        "  \n",
        "  func promoteBestChildToRoot() {\n",
        "    guard let bestChild = root.getMostVisitedChild() else {\n",
        "      assertionFailure(\"Root node has no children.\")\n",
        "      return\n",
        "    }\n",
        "    root = bestChild\n",
        "    pieceSequence.offset += 1\n",
        "    garbages.offset += 1\n",
        "  }\n",
        "  \n",
        "}"
      ],
      "execution_count": 0,
      "outputs": []
    },
    {
      "cell_type": "markdown",
      "metadata": {
        "id": "dXi7GL3HYeJ4",
        "colab_type": "text"
      },
      "source": [
        "### Printing next move"
      ]
    },
    {
      "cell_type": "code",
      "metadata": {
        "id": "AURBuNXVYiCB",
        "colab_type": "code",
        "colab": {}
      },
      "source": [
        "extension MCTSTree {\n",
        "  func printBestMove() {\n",
        "    // Lots of duplicate printing logic, but it'll do for now\n",
        "    guard let bestChild = root.getMostVisitedChild() else {\n",
        "      print(\"No best move yet.\")\n",
        "      return\n",
        "    }\n",
        "    \n",
        "    var lines = root.field.storage\n",
        "\n",
        "    let piece = root.legalMoves[bestChild.indexInParent]\n",
        "    let pieceIndex = piece.typeAndOrientationIndex\n",
        "    let pieceMasks = unshiftedPieceBitmasks[pieceIndex].map { $0 << (piece.x - 2)}\n",
        "    let pieceBottomRow = piece.y - bottomRowOffsets[pieceIndex]\n",
        "    let pieceTopRow = pieceBottomRow + (pieceMasks.count - 1)\n",
        "    \n",
        "    while lines.count <= pieceTopRow {\n",
        "      lines.append(0)\n",
        "    }\n",
        "    \n",
        "    var stringField: [[String]] = lines.map { _ in\n",
        "      Array(repeating: \" \", count: 10)\n",
        "    }\n",
        "\n",
        "    for (y, line) in lines.enumerated() {\n",
        "      for x in 0 ..< 10 {\n",
        "        if line & (1 << x) != 0 {\n",
        "          stringField[y][x] = \"O\"\n",
        "        }\n",
        "      }\n",
        "    }\n",
        "\n",
        "    for (y, mask) in zip(pieceBottomRow ... pieceTopRow, pieceMasks) {\n",
        "      for x in 0 ..< 10 {\n",
        "        if mask & (1 << x) != 0 {\n",
        "          stringField[y][x] = \"X\"\n",
        "        }\n",
        "      }\n",
        "    }\n",
        "\n",
        "    let stringLines = stringField.reversed().map { \"  \" + $0.joined(separator: \" \")}\n",
        "//     print(\"Play:\", bestChild.move)\n",
        "    print(stringLines.joined(separator: \"\\n\"))\n",
        "    \n",
        "  }\n",
        "}"
      ],
      "execution_count": 0,
      "outputs": []
    },
    {
      "cell_type": "markdown",
      "metadata": {
        "id": "MNHm8My1qi9I",
        "colab_type": "text"
      },
      "source": [
        "# Notebook Methods"
      ]
    },
    {
      "cell_type": "markdown",
      "metadata": {
        "id": "FSqWpTIuxORO",
        "colab_type": "text"
      },
      "source": [
        "### Use matplotlib to draw the field"
      ]
    },
    {
      "cell_type": "code",
      "metadata": {
        "id": "wzCVtKPsQwYD",
        "colab_type": "code",
        "colab": {}
      },
      "source": [
        "func draw(_ field: Field) {\n",
        "  let filledBlocks = np.array(field.storage.map { number in\n",
        "    (0..<10).map { i in number & (1 << i) == 0 }\n",
        "  })\n",
        "\n",
        "  plt.figure(figsize: [5, 8])\n",
        "  \n",
        "  let ax = plt.gca()\n",
        "  let im = ax.imshow(filledBlocks, cmap: \"gray\", vmin: -0.2, vmax: 1.2)\n",
        "  \n",
        "    ax.set_xticks(np.arange(filledBlocks.shape[1]+1) - 0.5, minor: true)\n",
        "  ax.set_yticks(np.arange(filledBlocks.shape[0]+1) - 0.5, minor: true)\n",
        "  ax.grid(which: \"minor\", color: \"w\", linestyle: \"-\", linewidth: 3)\n",
        "  ax.invert_yaxis()\n",
        "  \n",
        "  plt.show()\n",
        "}"
      ],
      "execution_count": 0,
      "outputs": []
    },
    {
      "cell_type": "markdown",
      "metadata": {
        "id": "8ZZKY_3V9WIj",
        "colab_type": "text"
      },
      "source": [
        "# Test Run"
      ]
    },
    {
      "cell_type": "markdown",
      "metadata": {
        "id": "8Ks7I-shQHs5",
        "colab_type": "text"
      },
      "source": [
        "### Make a test field"
      ]
    },
    {
      "cell_type": "code",
      "metadata": {
        "id": "jxXxnId3npYF",
        "colab_type": "code",
        "cellView": "both",
        "outputId": "8154eeb3-8a4c-46bc-e2c8-56b0df0916fd",
        "colab": {
          "base_uri": "https://localhost:8080/",
          "height": 119
        }
      },
      "source": [
        "let typical: [Int16] = [\n",
        "  0b01111_11111,\n",
        "  0b01111_11111,\n",
        "  0b01111_11111,\n",
        "  0b01101_11111,\n",
        "  0b00000_01111,\n",
        "  0b00000_00001,\n",
        "]\n",
        "\n",
        "var field = Field(storage: typical, garbageCount: 0)\n",
        "\n",
        "print(field)\n",
        "// draw(field)"
      ],
      "execution_count": 26,
      "outputs": [
        {
          "output_type": "stream",
          "text": [
            "  O                   \r\n",
            "  O O O O             \r\n",
            "  O O O O O O   O O   \r\n",
            "  O O O O O O O O O   \r\n",
            "  O O O O O O O O O   \r\n",
            "  O O O O O O O O O   \r\n"
          ],
          "name": "stdout"
        }
      ]
    },
    {
      "cell_type": "markdown",
      "metadata": {
        "id": "k5YnYLGu1tIh",
        "colab_type": "text"
      },
      "source": [
        "### Try placing pieces on field"
      ]
    },
    {
      "cell_type": "code",
      "metadata": {
        "id": "W8LNy8iE4hv_",
        "colab_type": "code",
        "outputId": "a6cb8d8c-5fdc-4003-b17f-9b1074b7de2b",
        "colab": {
          "base_uri": "https://localhost:8080/",
          "height": 119
        }
      },
      "source": [
        "let piece = Piece(type: .L, x: 9, y: 3, orientation: .left)\n",
        "field.canPlace(piece)\n",
        "let (newField, garbageCleared) = field.lockDown(piece)\n",
        "print(newField)\n",
        "print(\"cleared garbage lines:\", garbageCleared)\n"
      ],
      "execution_count": 35,
      "outputs": [
        {
          "output_type": "stream",
          "text": [
            "  O                   \r\n",
            "  O O O O         O O \r\n",
            "  O O O O O O   O O O \r\n",
            "  O O O O O O O O O   \r\n",
            "  O O O O O O O O O   \r\n",
            "cleared garbage lines: 0\r\n"
          ],
          "name": "stdout"
        }
      ]
    },
    {
      "cell_type": "markdown",
      "metadata": {
        "id": "m-roSSXHvEjK",
        "colab_type": "text"
      },
      "source": [
        "### Play a game"
      ]
    },
    {
      "cell_type": "code",
      "metadata": {
        "id": "n3FMGkTFikMY",
        "colab_type": "code",
        "colab": {}
      },
      "source": [
        "// var hasSeenTheEnd = false"
      ],
      "execution_count": 0,
      "outputs": []
    },
    {
      "cell_type": "code",
      "metadata": {
        "id": "blrmsfA2gCcd",
        "colab_type": "code",
        "outputId": "2cd37be3-39ee-4089-a51c-06e3b5000b58",
        "colab": {
          "base_uri": "https://localhost:8080/",
          "height": 347
        }
      },
      "source": [
        "// Start a game\n",
        "\n",
        "let tree = MCTSTree()\n",
        "tree.evaluate = bctsEvaluate\n",
        "\n",
        "var startingSequence = (0 ..< 7).map { tree.pieceSequence[$0] }\n",
        "\n",
        "\n",
        "print(\"Starting pieces:\", startingSequence)\n",
        "draw(tree.root.field)"
      ],
      "execution_count": 37,
      "outputs": [
        {
          "output_type": "stream",
          "text": [
            "Starting pieces: [J, I, L, S, T, O, Z]\r\n"
          ],
          "name": "stdout"
        },
        {
          "output_type": "display_data",
          "data": {
            "image/png": "[encoded data removed]",
            "text/plain": [
              "<Figure size 360x576 with 1 Axes>"
            ]
          },
          "metadata": {
            "tags": []
          }
        }
      ]
    },
    {
      "cell_type": "code",
      "metadata": {
        "id": "5Y5wtlS48j7G",
        "colab_type": "code",
        "outputId": "34b6b760-7165-486a-d74f-37baf84c37b6",
        "colab": {
          "base_uri": "https://localhost:8080/",
          "height": 6018
        }
      },
      "source": [
        "// hasSeenTheEnd = false\n",
        "\n",
        "let thinkTime: TimeInterval = 3\n",
        "\n",
        "var startTime = Date()\n",
        "\n",
        "playGame: for move in 1... {\n",
        "  \n",
        "  print(\"*** Move \\(move): ***\")\n",
        "  print(\"Play: \\(tree.pieceSequence[1]), hold: \\(tree.root.hold)\")\n",
        "\n",
        "  var searchCount = 0\n",
        "  startTime = Date()\n",
        "\n",
        "  while Date().timeIntervalSince(startTime) < thinkTime {\n",
        "    tree.performSearch(times: 100)\n",
        "    searchCount += 100\n",
        "  }\n",
        "\n",
        "  let bestChild = tree.root.getMostVisitedChild()!\n",
        "\n",
        "  print(\"Search count: \\(searchCount), max depth: \\(tree.getMostTraveledPath().count)\")\n",
        "\n",
        "  tree.printBestMove()\n",
        "  \n",
        "  if bestChild.field.garbageCount == 0 {\n",
        "    print(\"Garbage cleared!\")\n",
        "    break playGame\n",
        "  }\n",
        "\n",
        "  tree.promoteBestChildToRoot()\n",
        "    \n",
        "  print()\n",
        "  \n",
        "}\n",
        "  "
      ],
      "execution_count": 38,
      "outputs": [
        {
          "output_type": "stream",
          "text": [
            "*** Move 1: ***\r\n",
            "Play: I, hold: J\n",
            "Search count: 3100, max depth: 4\n",
            "          X X X      \n",
            "  O O O O O O X O O O\n",
            "  O O   O O O O O O O\n",
            "  O O O O O O O   O O\n",
            "    O O O O O O O O O\n",
            "  O O O O O O O O   O\n",
            "  O O   O O O O O O O\n",
            "  O O O O   O O O O O\n",
            "  O O O   O O O O O O\n",
            "  O O O O   O O O O O\n",
            "  O O O O O   O O O O\n",
            "\n",
            "*** Move 2: ***\n",
            "Play: L, hold: I\n",
            "Search count: 3000, max depth: 4\n",
            "                    X\n",
            "          O O O X X X\n",
            "  O O   O O O O O O O\n",
            "  O O O O O O O   O O\n",
            "    O O O O O O O O O\n",
            "  O O O O O O O O   O\n",
            "  O O   O O O O O O O\n",
            "  O O O O   O O O O O\n",
            "  O O O   O O O O O O\n",
            "  O O O O   O O O O O\n",
            "  O O O O O   O O O O\n",
            "\n",
            "*** Move 3: ***\n",
            "Play: S, hold: I\n",
            "Search count: 3000, max depth: 4\n",
            "                    O\n",
            "  X X X X O O O O O O\n",
            "  O O   O O O O O O O\n",
            "  O O O O O O O   O O\n",
            "    O O O O O O O O O\n",
            "  O O O O O O O O   O\n",
            "  O O   O O O O O O O\n",
            "  O O O O   O O O O O\n",
            "  O O O   O O O O O O\n",
            "  O O O O   O O O O O\n",
            "  O O O O O   O O O O\n",
            "\n",
            "*** Move 4: ***\n",
            "Play: T, hold: S\n",
            "Search count: 2900, max depth: 4\n",
            "    X X X           O\n",
            "  O O X O O O O O O O\n",
            "  O O O O O O O   O O\n",
            "    O O O O O O O O O\n",
            "  O O O O O O O O   O\n",
            "  O O   O O O O O O O\n",
            "  O O O O   O O O O O\n",
            "  O O O   O O O O O O\n",
            "  O O O O   O O O O O\n",
            "  O O O O O   O O O O\n",
            "\n",
            "*** Move 5: ***\n",
            "Play: O, hold: S\n",
            "Search count: 2700, max depth: 6\n",
            "              X      \n",
            "    O O O     X X   O\n",
            "  O O O O O O O X O O\n",
            "    O O O O O O O O O\n",
            "  O O O O O O O O   O\n",
            "  O O   O O O O O O O\n",
            "  O O O O   O O O O O\n",
            "  O O O   O O O O O O\n",
            "  O O O O   O O O O O\n",
            "  O O O O O   O O O O\n",
            "\n",
            "*** Move 6: ***\n",
            "Play: Z, hold: O\n",
            "Search count: 2700, max depth: 6\n",
            "                    X\n",
            "              O   X X\n",
            "    O O O     O O X O\n",
            "    O O O O O O O O O\n",
            "  O O O O O O O O   O\n",
            "  O O   O O O O O O O\n",
            "  O O O O   O O O O O\n",
            "  O O O   O O O O O O\n",
            "  O O O O   O O O O O\n",
            "  O O O O O   O O O O\n",
            "\n",
            "*** Move 7: ***\n",
            "Play: J, hold: O\n",
            "Search count: 2600, max depth: 5\n",
            "                    O\n",
            "  X X         O   O O\n",
            "  X O O O     O O O O\n",
            "  X O O O O O O O O O\n",
            "  O O O O O O O O   O\n",
            "  O O   O O O O O O O\n",
            "  O O O O   O O O O O\n",
            "  O O O   O O O O O O\n",
            "  O O O O   O O O O O\n",
            "  O O O O O   O O O O\n",
            "\n",
            "*** Move 8: ***\n",
            "Play: O, hold: O\n",
            "Search count: 2400, max depth: 5\n",
            "                    O\n",
            "  O O     X X O   O O\n",
            "  O O O O X X O O O O\n",
            "  O O O O O O O O   O\n",
            "  O O   O O O O O O O\n",
            "  O O O O   O O O O O\n",
            "  O O O   O O O O O O\n",
            "  O O O O   O O O O O\n",
            "  O O O O O   O O O O\n",
            "\n",
            "*** Move 9: ***\n",
            "Play: I, hold: O\n",
            "Search count: 2600, max depth: 5\n",
            "  X                  \n",
            "  X                  \n",
            "  X                  \n",
            "  X                 O\n",
            "  O O     O O O   O O\n",
            "  O O O O O O O O   O\n",
            "  O O   O O O O O O O\n",
            "  O O O O   O O O O O\n",
            "  O O O   O O O O O O\n",
            "  O O O O   O O O O O\n",
            "  O O O O O   O O O O\n",
            "\n",
            "*** Move 10: ***\n",
            "Play: Z, hold: O\n",
            "Search count: 2700, max depth: 5\n",
            "  O                  \n",
            "  O                  \n",
            "  O                  \n",
            "  O X X             O\n",
            "  O O X X O O O   O O\n",
            "  O O O O O O O O   O\n",
            "  O O   O O O O O O O\n",
            "  O O O O   O O O O O\n",
            "  O O O   O O O O O O\n",
            "  O O O O   O O O O O\n",
            "  O O O O O   O O O O\n",
            "\n",
            "*** Move 11: ***\n",
            "Play: T, hold: O\n",
            "Search count: 2700, max depth: 5\n",
            "  O                  \n",
            "  O                  \n",
            "  O                  \n",
            "  O O O       X X X O\n",
            "  O O O O O O O X O O\n",
            "  O O O O O O O O   O\n",
            "  O O   O O O O O O O\n",
            "  O O O O   O O O O O\n",
            "  O O O   O O O O O O\n",
            "  O O O O   O O O O O\n",
            "  O O O O O   O O O O\n",
            "\n",
            "*** Move 12: ***\n",
            "Play: S, hold: O\n",
            "Search count: 2700, max depth: 7\n",
            "  O                  \n",
            "  O                  \n",
            "  O     X X          \n",
            "  O O O X X   O O O O\n",
            "  O O O O O O O O   O\n",
            "  O O   O O O O O O O\n",
            "  O O O O   O O O O O\n",
            "  O O O   O O O O O O\n",
            "  O O O O   O O O O O\n",
            "  O O O O O   O O O O\n",
            "\n",
            "*** Move 13: ***\n",
            "Play: L, hold: S\n",
            "Search count: 2800, max depth: 6\n",
            "  O                  \n",
            "  O                  \n",
            "  O     O O X X X    \n",
            "  O O O O O X O O O O\n",
            "  O O O O O O O O   O\n",
            "  O O   O O O O O O O\n",
            "  O O O O   O O O O O\n",
            "  O O O   O O O O O O\n",
            "  O O O O   O O O O O\n",
            "  O O O O O   O O O O\n",
            "\n",
            "*** Move 14: ***\n",
            "Play: I, hold: S\n",
            "Search count: 2700, max depth: 5\n",
            "  O                  \n",
            "  O   X X            \n",
            "  O X X O O O O O    \n",
            "  O O O O O O O O   O\n",
            "  O O   O O O O O O O\n",
            "  O O O O   O O O O O\n",
            "  O O O   O O O O O O\n",
            "  O O O O   O O O O O\n",
            "  O O O O O   O O O O\n",
            "\n",
            "*** Move 15: ***\n",
            "Play: T, hold: I\n",
            "Search count: 2900, max depth: 5\n",
            "  O                  \n",
            "  O   O O         X  \n",
            "  O O O O O O O O X X\n",
            "  O O O O O O O O X O\n",
            "  O O   O O O O O O O\n",
            "  O O O O   O O O O O\n",
            "  O O O   O O O O O O\n",
            "  O O O O   O O O O O\n",
            "  O O O O O   O O O O\n",
            "\n",
            "*** Move 16: ***\n",
            "Play: Z, hold: I\n",
            "Search count: 2800, max depth: 5\n",
            "  O                  \n",
            "  O   O O X X X X O  \n",
            "  O O   O O O O O O O\n",
            "  O O O O   O O O O O\n",
            "  O O O   O O O O O O\n",
            "  O O O O   O O O O O\n",
            "  O O O O O   O O O O\n",
            "\n",
            "*** Move 17: ***\n",
            "Play: S, hold: Z\n",
            "Search count: 2900, max depth: 7\n",
            "                  X  \n",
            "  O               X X\n",
            "  O   O O O O O O O X\n",
            "  O O   O O O O O O O\n",
            "  O O O O   O O O O O\n",
            "  O O O   O O O O O O\n",
            "  O O O O   O O O O O\n",
            "  O O O O O   O O O O\n",
            "\n",
            "*** Move 18: ***\n",
            "Play: L, hold: Z\n",
            "Search count: 3100, max depth: 8\n",
            "  X X             O  \n",
            "  O X             O O\n",
            "  O X O O O O O O O O\n",
            "  O O   O O O O O O O\n",
            "  O O O O   O O O O O\n",
            "  O O O   O O O O O O\n",
            "  O O O O   O O O O O\n",
            "  O O O O O   O O O O\n",
            "\n",
            "*** Move 19: ***\n",
            "Play: J, hold: Z\n",
            "Search count: 2700, max depth: 7\n",
            "  O O   X         O  \n",
            "  O O X X         O O\n",
            "  O O X O O O O O O O\n",
            "  O O O O   O O O O O\n",
            "  O O O   O O O O O O\n",
            "  O O O O   O O O O O\n",
            "  O O O O O   O O O O\n",
            "\n",
            "*** Move 20: ***\n",
            "Play: O, hold: J\n",
            "Search count: 2500, max depth: 12\n",
            "  X X X              \n",
            "  O O X O         O  \n",
            "  O O O O         O O\n",
            "  O O O O   O O O O O\n",
            "  O O O   O O O O O O\n",
            "  O O O O   O O O O O\n",
            "  O O O O O   O O O O\n",
            "\n",
            "*** Move 21: ***\n",
            "Play: O, hold: O\n",
            "Search count: 2300, max depth: 11\n",
            "  O O O              \n",
            "  O O O O     X X O  \n",
            "  O O O O     X X O O\n",
            "  O O O O   O O O O O\n",
            "  O O O   O O O O O O\n",
            "  O O O O   O O O O O\n",
            "  O O O O O   O O O O\n",
            "\n",
            "*** Move 22: ***\n",
            "Play: I, hold: O\n",
            "Search count: 2400, max depth: 8\n",
            "                    X\n",
            "                    X\n",
            "  O O O             X\n",
            "  O O O O     O O O X\n",
            "  O O O O     O O O O\n",
            "  O O O O   O O O O O\n",
            "  O O O   O O O O O O\n",
            "  O O O O   O O O O O\n",
            "  O O O O O   O O O O\n",
            "\n",
            "*** Move 23: ***\n",
            "Play: J, hold: O\n",
            "Search count: 2400, max depth: 11\n",
            "                    O\n",
            "                    O\n",
            "  O O O             O\n",
            "  O O O O X X O O O O\n",
            "  O O O O X   O O O O\n",
            "  O O O O X O O O O O\n",
            "  O O O   O O O O O O\n",
            "  O O O O   O O O O O\n",
            "  O O O O O   O O O O\n",
            "\n",
            "*** Move 24: ***\n",
            "Play: Z, hold: O\n",
            "Search count: 2500, max depth: 10\n",
            "                    O\n",
            "              X     O\n",
            "  O O O     X X     O\n",
            "  O O O O O X O O O O\n",
            "  O O O   O O O O O O\n",
            "  O O O O   O O O O O\n",
            "  O O O O O   O O O O\n",
            "\n",
            "*** Move 25: ***\n",
            "Play: L, hold: O\n",
            "Search count: 2600, max depth: 15\n",
            "                    O\n",
            "              O X X O\n",
            "  O O O     O O X X O\n",
            "  O O O   O O O O O O\n",
            "  O O O O   O O O O O\n",
            "  O O O O O   O O O O\n",
            "\n",
            "*** Move 26: ***\n",
            "Play: T, hold: L\n",
            "Search count: 3000, max depth: 6\n",
            "                    O\n",
            "        X     O O O O\n",
            "  O O O X X O O O O O\n",
            "  O O O X O O O O O O\n",
            "  O O O O   O O O O O\n",
            "  O O O O O   O O O O\n",
            "\n",
            "*** Move 27: ***\n",
            "Play: S, hold: L\n",
            "Search count: 2800, max depth: 14\n",
            "        X X         O\n",
            "        O X   O O O O\n",
            "  O O O O X O O O O O\n",
            "  O O O O O   O O O O\n",
            "\n",
            "*** Move 28: ***\n",
            "Play: J, hold: S\n",
            "Search count: 2000, max depth: 14\n",
            "        O O X X     O\n",
            "        O O X O O O O\n",
            "  O O O O O X O O O O\n",
            "Garbage cleared!\n"
          ],
          "name": "stdout"
        }
      ]
    },
    {
      "cell_type": "markdown",
      "metadata": {
        "id": "3rYRFQKsvLxb",
        "colab_type": "text"
      },
      "source": [
        "### Explore MCTS result"
      ]
    },
    {
      "cell_type": "code",
      "metadata": {
        "id": "mnWu6We-AvSj",
        "colab_type": "code",
        "outputId": "d8af78fb-1188-4ad3-b1d8-d39a42de1040",
        "colab": {
          "base_uri": "https://localhost:8080/",
          "height": 204
        }
      },
      "source": [
        "\n",
        "// tree.performSearch(times: 10000)\n",
        "// tree.root.getMostVisitedChild()!.getMostVisitedChild()!.childN\n",
        "// tree.root.puctValue\n",
        "// tree.root.meanActionValue\n",
        "// tree.root.childrenActionScores\n",
        "// tree.root.childW\n",
        "// tree.root.childN\n",
        "// tree.root.priors\n",
        "// tree.root.meanActionValue.max() - tree.root.meanActionValue.min()\n",
        "// (tree.root.meanActionValue.mean() - 2.5) * 400 / 300\n",
        "\n",
        "// Check how deep it went\n",
        "tree.getMostTraveledPath().forEach { print($0.childN.sum()) }\n"
      ],
      "execution_count": 31,
      "outputs": [
        {
          "output_type": "stream",
          "text": [
            "2076.0\r\n",
            "321.0\r\n",
            "17.0\r\n",
            "12.0\r\n",
            "6.0\r\n",
            "5.0\r\n",
            "4.0\r\n",
            "3.0\n",
            "2.0\n",
            "1.0\n",
            "0.0\n"
          ],
          "name": "stdout"
        }
      ]
    },
    {
      "cell_type": "markdown",
      "metadata": {
        "id": "-5WTXPvlc--T",
        "colab_type": "text"
      },
      "source": [
        "# Scribbling"
      ]
    },
    {
      "cell_type": "code",
      "metadata": {
        "id": "2mYkAptKdGOL",
        "colab_type": "code",
        "colab": {}
      },
      "source": [
        "// var data1 = [Double]()\n",
        "// var data2 = [Double]()"
      ],
      "execution_count": 0,
      "outputs": []
    },
    {
      "cell_type": "code",
      "metadata": {
        "id": "-q9b-Pz5Q2p5",
        "colab_type": "code",
        "colab": {}
      },
      "source": [
        "// data1.removeAll(keepingCapacity: true)\n",
        "// data2.removeAll(keepingCapacity: true)"
      ],
      "execution_count": 0,
      "outputs": []
    },
    {
      "cell_type": "code",
      "metadata": {
        "id": "t33kj5tCOmpw",
        "colab_type": "code",
        "colab": {}
      },
      "source": [
        "// var data3 = zip(data1, data2).map { $0 + $1 }\n",
        "\n",
        "// plt.hist(data1, bins: 100)\n",
        "// plt.hist(data2, bins: 100)\n",
        "// plt.hist(data3, bins: 100)\n",
        "\n",
        "// plt.show()"
      ],
      "execution_count": 0,
      "outputs": []
    },
    {
      "cell_type": "code",
      "metadata": {
        "id": "YkYY_KzzPOqu",
        "colab_type": "code",
        "colab": {}
      },
      "source": [
        "// data1.count"
      ],
      "execution_count": 0,
      "outputs": []
    },
    {
      "cell_type": "code",
      "metadata": {
        "id": "7JuKQA_zotId",
        "colab_type": "code",
        "colab": {}
      },
      "source": [
        "let conv = Conv2D<Float>(filterShape:(3, 3, 4, 3), strides: (1, 1), padding: .same)"
      ],
      "execution_count": 0,
      "outputs": []
    },
    {
      "cell_type": "code",
      "metadata": {
        "id": "hg13sS_cUDjA",
        "colab_type": "code",
        "colab": {}
      },
      "source": [
        "var input = Tensor<Float>(randomNormal: [1, 4, 4, 4])"
      ],
      "execution_count": 0,
      "outputs": []
    },
    {
      "cell_type": "code",
      "metadata": {
        "id": "Mlj6PSlJUOsK",
        "colab_type": "code",
        "colab": {
          "base_uri": "https://localhost:8080/",
          "height": 34
        },
        "outputId": "6018d075-e893-49b8-963b-ff7c6d825fd0"
      },
      "source": [
        "// input\n",
        "conv(input).argmax().scalar.map(Int.init)! //.reshaped(to: [-1])"
      ],
      "execution_count": 43,
      "outputs": [
        {
          "output_type": "execute_result",
          "data": {
            "text/plain": [
              "23\n"
            ]
          },
          "metadata": {
            "tags": []
          },
          "execution_count": 43
        }
      ]
    },
    {
      "cell_type": "code",
      "metadata": {
        "id": "7cMNkT2lUiYU",
        "colab_type": "code",
        "colab": {}
      },
      "source": [
        ""
      ],
      "execution_count": 0,
      "outputs": []
    }
  ]
}